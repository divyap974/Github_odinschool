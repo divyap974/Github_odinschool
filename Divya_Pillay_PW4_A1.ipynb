{
  "cells": [
    {
      "cell_type": "markdown",
      "metadata": {
        "deletable": false,
        "editable": false,
        "nbgrader": {
          "cell_type": "markdown",
          "checksum": "b6ea33039feb489212b24d025a5d36c1",
          "grade": false,
          "grade_id": "cell-0a1cd97d29171e27",
          "locked": true,
          "schema_version": 3,
          "solution": false,
          "task": false
        },
        "id": "8s_fDZq7-N19"
      },
      "source": [
        "# Rules:\n",
        "    1. Follow the given instructions strictly as the assignment will be automatically rejected if not done so.\n",
        "    2. After you are done answering the questions, save the notebook in .ipynb format and rename it as so;\n",
        "        \n",
        "        <<Your name as visible on 'My Courses' page>>_PW4-A1.ipynb\n",
        "        \n",
        "    3. After renaming the file as above submit onto the platform."
      ]
    },
    {
      "cell_type": "markdown",
      "metadata": {
        "deletable": false,
        "editable": false,
        "nbgrader": {
          "cell_type": "markdown",
          "checksum": "a0155365d3cc9d108e399181af076e75",
          "grade": false,
          "grade_id": "cell-39806162dd625703",
          "locked": true,
          "schema_version": 3,
          "solution": false,
          "task": false
        },
        "id": "8bVf16wD-N2G"
      },
      "source": [
        "# Python W4 - Assignment 01"
      ]
    },
    {
      "cell_type": "markdown",
      "metadata": {
        "deletable": false,
        "editable": false,
        "nbgrader": {
          "cell_type": "markdown",
          "checksum": "71f0638b16beff7c4a42be8800d743fc",
          "grade": false,
          "grade_id": "Q1",
          "locked": true,
          "schema_version": 3,
          "solution": false,
          "task": false
        },
        "id": "MygdnxuP-N2I"
      },
      "source": [
        "\n",
        "## Marks Grading\n",
        "\n",
        "Write the function body for the `ans1(a)` function which takes in the marks (between 0 to 100) of a student and then returns their grade according to the following logic;\n",
        "\n",
        "- marks>=90 - A Grade\n",
        "- 80<=marks<90 - B Grade\n",
        "- 70<=marks<80 - C Grade\n",
        "- 60<=marks<70 - D Grade\n",
        "- 50<=marks<60 - E Grade\n",
        "- marks<50 - F Grade\n",
        "\n",
        "\n",
        "Instructions:\n",
        "- Enter your solution in the cell block below only. Double click to edit.\n",
        "- Do not edit anything else apart from 'YOUR ANSWER HERE' for your solution"
      ]
    },
    {
      "cell_type": "code",
      "execution_count": null,
      "metadata": {
        "deletable": false,
        "nbgrader": {
          "cell_type": "code",
          "checksum": "69b460bd80a08199bc61740120c714a7",
          "grade": false,
          "grade_id": "A1",
          "locked": false,
          "schema_version": 3,
          "solution": true,
          "task": false
        },
        "colab": {
          "base_uri": "https://localhost:8080/"
        },
        "id": "sWc3VRJS-N2K",
        "outputId": "29e18ba5-6064-4e2c-a2c6-e15041a01cff"
      },
      "outputs": [
        {
          "output_type": "stream",
          "name": "stdout",
          "text": [
            "Enter the marks of student:60\n",
            "D Grade\n"
          ]
        }
      ],
      "source": [
        "def ans1(a):\n",
        "    '''\n",
        "    a: Integer type representing marks of the student\n",
        "    Should return the letter grade ONLY.\n",
        "    Ex: ans1(70) returns: C\n",
        "    '''\n",
        "    if (a>=90):\n",
        "      return 'A'\n",
        "    elif (80<=a<90):\n",
        "      return 'B'\n",
        "    elif (70<=a<80):\n",
        "      return 'C'\n",
        "    elif (60<=a<70):\n",
        "      return 'D'\n",
        "    elif (50<=a<60):\n",
        "      return 'E'\n",
        "    else:\n",
        "      return 'F'\n",
        "    \n",
        "marks = int(input(\"Enter the marks of student:\"))\n",
        "print(f\"{ans1(marks)} Grade\")"
      ]
    },
    {
      "cell_type": "code",
      "execution_count": null,
      "metadata": {
        "deletable": false,
        "editable": false,
        "nbgrader": {
          "cell_type": "code",
          "checksum": "8f734f668fe4d0b873c3a2c646175a0c",
          "grade": true,
          "grade_id": "cell-e026d20a5b3c7d5d",
          "locked": true,
          "points": 1,
          "schema_version": 3,
          "solution": false,
          "task": false
        },
        "id": "vOuerXaM-N2M"
      },
      "outputs": [],
      "source": [
        ""
      ]
    },
    {
      "cell_type": "code",
      "execution_count": null,
      "metadata": {
        "deletable": false,
        "editable": false,
        "nbgrader": {
          "cell_type": "code",
          "checksum": "eac05f55af24ef036be718ea50a5abc5",
          "grade": false,
          "grade_id": "cell-bdbb11386adf6c13",
          "locked": true,
          "schema_version": 3,
          "solution": false,
          "task": false
        },
        "id": "xlwuU8gC-N2N"
      },
      "outputs": [],
      "source": [
        ""
      ]
    },
    {
      "cell_type": "markdown",
      "metadata": {
        "deletable": false,
        "editable": false,
        "nbgrader": {
          "cell_type": "markdown",
          "checksum": "d6235f925bf19a75656ef2f21d0e2798",
          "grade": false,
          "grade_id": "Q21",
          "locked": true,
          "points": 0,
          "schema_version": 3,
          "solution": false,
          "task": true
        },
        "id": "pOaWCFhj-N2O"
      },
      "source": [
        "## Total rainfall\n",
        "\n",
        "Write a function below which takes the following as inputs;\n",
        "\n",
        "- Line 1 \n",
        "    - Gives the number of days to be recorded\n",
        "    \n",
        "- Subsequent lines contain the rainfall measurements for each day seperated by spaces and terminated by -1, till the given number of days above.\n",
        "\n",
        "Output would be the sum of all the rainfall measured in that particular day.\n",
        "    \n",
        "Example:\n",
        "\n",
        "Sample input for 3 days:\\\n",
        "`\n",
        "3\n",
        "10 15 19 5 -1\n",
        "12 13 31 -1\n",
        "57 32 85 47 82 -1\n",
        "`\n",
        "\n",
        "Sample Output:\\\n",
        "`\n",
        "49\n",
        "56\n",
        "30\n",
        "`"
      ]
    },
    {
      "cell_type": "code",
      "execution_count": null,
      "metadata": {
        "deletable": false,
        "nbgrader": {
          "cell_type": "code",
          "checksum": "846f240f662de495d6f07bf07330492b",
          "grade": true,
          "grade_id": "cell-e2dac2e6767a1872",
          "locked": false,
          "points": 1,
          "schema_version": 3,
          "solution": true,
          "task": false
        },
        "id": "KLZRTcny-N2Q",
        "colab": {
          "base_uri": "https://localhost:8080/"
        },
        "outputId": "c91fa359-1e83-4126-872d-2ac1dc4cf4d1"
      },
      "outputs": [
        {
          "output_type": "stream",
          "name": "stdout",
          "text": [
            "[49, 56, 303]\n"
          ]
        }
      ],
      "source": [
        "def group(num):\n",
        "  sum=[]\n",
        "  j=0\n",
        "  for i in range(num[0]):\n",
        "    s=0\n",
        "    for j in range(j+1,len(num)):\n",
        "      #print(j)\n",
        "      if (num[j]!=-1):\n",
        "        #print(num[j])\n",
        "        s=s+num[j]\n",
        "      elif(num[j]==-1):\n",
        "        break\n",
        "    sum.append(s)\n",
        "  return sum\n",
        "\n",
        "#Calling a function\n",
        "a = [3,10, 15, 19, 5, -1, 12, 13, 31, -1, 57, 32, 85, 47, 82, -1]\n",
        "print(group(a))"
      ]
    },
    {
      "cell_type": "code",
      "execution_count": null,
      "metadata": {
        "deletable": false,
        "editable": false,
        "nbgrader": {
          "cell_type": "code",
          "checksum": "4eaf74570e36cd74af3f4f63ccd76cd4",
          "grade": false,
          "grade_id": "cell-0e8738718a5c7212",
          "locked": true,
          "schema_version": 3,
          "solution": false,
          "task": false
        },
        "id": "hum-wyd9-N2R"
      },
      "outputs": [],
      "source": [
        ""
      ]
    },
    {
      "cell_type": "markdown",
      "metadata": {
        "deletable": false,
        "editable": false,
        "nbgrader": {
          "cell_type": "markdown",
          "checksum": "4d343c4bba06e235a38ea05ac542dc0a",
          "grade": false,
          "grade_id": "cell-20cc93fef013c61c",
          "locked": true,
          "schema_version": 3,
          "solution": false,
          "task": false
        },
        "id": "JrvLisKl-N2S"
      },
      "source": [
        "## Collatz function\n",
        "\n",
        "The `Collatz` function is defined for a positive integer n as follows;\n",
        "\n",
        "- f(n)= 3n+1 if n is odd\n",
        "- f(n)= n/2 if n is even\n",
        "\n",
        "We consider the repeated application if the above function starting with a given integer `n`, as follows;\n",
        "\n",
        "`f(n),f(f(n)),f(f(f(n))),......`\n",
        "\n",
        "It is conjenctured that no matter which positive integer `n` you start from, the sequence will always end up at 1.\n",
        "\n",
        "Write the function body for `ans3(n)` which outputs the number of times `Collatz` function `f` had to be applied in order to first reach `1`."
      ]
    },
    {
      "cell_type": "code",
      "execution_count": null,
      "metadata": {
        "ExecuteTime": {
          "end_time": "2021-12-09T11:06:23.599977Z",
          "start_time": "2021-12-09T11:06:23.577069Z"
        },
        "deletable": false,
        "nbgrader": {
          "cell_type": "code",
          "checksum": "3e6f87a27f192fe1885fa00f9b6c7e3c",
          "grade": false,
          "grade_id": "cell-3a161eba374a74ec",
          "locked": false,
          "schema_version": 3,
          "solution": true,
          "task": false
        },
        "id": "s5jczT_7-N2T",
        "colab": {
          "base_uri": "https://localhost:8080/"
        },
        "outputId": "4384548f-7688-4377-8df7-fd1377751aa4"
      },
      "outputs": [
        {
          "output_type": "stream",
          "name": "stdout",
          "text": [
            "17\n"
          ]
        }
      ],
      "source": [
        "def ans3(num):\n",
        "    '''\n",
        "    n: Number to start the collatz funciton from.\n",
        "    Should return a number ONLY.\n",
        "    Ex: ans3(7) returns: 16\n",
        "    '''\n",
        "    if num == 0:\n",
        "         return 0\n",
        "    length = 1\n",
        "    while num != 1:\n",
        "         num = (num / 2) if num % 2 == 0 else (3 * num + 1)\n",
        "         length += 1\n",
        "    return length\n",
        "\n",
        "print(ans3(7))"
      ]
    },
    {
      "cell_type": "code",
      "execution_count": null,
      "metadata": {
        "deletable": false,
        "editable": false,
        "nbgrader": {
          "cell_type": "code",
          "checksum": "c99be3557b8ce329d77957678d41a5fe",
          "grade": true,
          "grade_id": "cell-98837479d965fec1",
          "locked": true,
          "points": 1,
          "schema_version": 3,
          "solution": false,
          "task": false
        },
        "id": "YokaYuot-N2U"
      },
      "outputs": [],
      "source": [
        ""
      ]
    },
    {
      "cell_type": "code",
      "execution_count": null,
      "metadata": {
        "deletable": false,
        "editable": false,
        "nbgrader": {
          "cell_type": "code",
          "checksum": "10f6c2040dd1c594e8599cbc9dff3b46",
          "grade": false,
          "grade_id": "cell-2f331d7d2c7bdcdc",
          "locked": true,
          "schema_version": 3,
          "solution": false,
          "task": false
        },
        "id": "gqLjVJVC-N2U"
      },
      "outputs": [],
      "source": [
        ""
      ]
    },
    {
      "cell_type": "markdown",
      "metadata": {
        "deletable": false,
        "editable": false,
        "nbgrader": {
          "cell_type": "markdown",
          "checksum": "37a87d29b1e3b68fa6177c7da704e3f3",
          "grade": false,
          "grade_id": "cell-a13189a026c3771d",
          "locked": true,
          "schema_version": 3,
          "solution": false,
          "task": false
        },
        "id": "wMGzLLiN-N2V"
      },
      "source": [
        "## Match the following:\n",
        "\n",
        "A) OOP\\\n",
        "B) Unordered, no duplicates, mutable\\\n",
        "C) Blueprint\\\n",
        "D) Over Loading\\\n",
        "E) Class methods\n",
        "\n",
        "I. Python functions\\\n",
        "II. Classes\\\n",
        "III. Dictionary\\\n",
        "IV. Focuses on data and functions\\\n",
        "V. None"
      ]
    },
    {
      "cell_type": "markdown",
      "metadata": {
        "deletable": false,
        "nbgrader": {
          "cell_type": "markdown",
          "checksum": "1a0107d547bbc31ea16076f863855b96",
          "grade": true,
          "grade_id": "cell-5b0ec5b5f53b7705",
          "locked": false,
          "points": 1,
          "schema_version": 3,
          "solution": true,
          "task": false
        },
        "id": "xmgv9XeT-N2W"
      },
      "source": [
        "A-IV, B-III, C-II, D-V, E-I"
      ]
    },
    {
      "cell_type": "code",
      "execution_count": null,
      "metadata": {
        "deletable": false,
        "editable": false,
        "nbgrader": {
          "cell_type": "code",
          "checksum": "f88b0eebd4d316703cf56b4c48a72efa",
          "grade": false,
          "grade_id": "cell-f0e0b9c35862e705",
          "locked": true,
          "schema_version": 3,
          "solution": false,
          "task": false
        },
        "id": "2NNm4482-N2W"
      },
      "outputs": [],
      "source": [
        ""
      ]
    },
    {
      "cell_type": "markdown",
      "metadata": {
        "deletable": false,
        "editable": false,
        "nbgrader": {
          "cell_type": "markdown",
          "checksum": "6a6fd1728aef4c5c13d8703b4fc3b0fd",
          "grade": false,
          "grade_id": "cell-6975b5c3cd3b6be9",
          "locked": true,
          "schema_version": 3,
          "solution": false,
          "task": false
        },
        "id": "RAtwEM65-N2W"
      },
      "source": [
        "## RegEx\n",
        "\n",
        "Answer the following sub-questions using the following instructions;\n",
        "\n",
        "- Enter your solution in the cell block below only.\n",
        "- Do not edit anything else apart from 'YOUR CODE HERE' for your solution"
      ]
    },
    {
      "cell_type": "code",
      "execution_count": null,
      "metadata": {
        "ExecuteTime": {
          "end_time": "2021-12-09T11:23:09.823219Z",
          "start_time": "2021-12-09T11:23:09.795975Z"
        },
        "id": "nMWCz4E1-N2W"
      },
      "outputs": [],
      "source": [
        "#Run this code cell before proceeding to answer the questions below\n",
        "import re"
      ]
    },
    {
      "cell_type": "markdown",
      "metadata": {
        "deletable": false,
        "editable": false,
        "nbgrader": {
          "cell_type": "markdown",
          "checksum": "4d96d161ff9b32d74930f8901da912bf",
          "grade": false,
          "grade_id": "cell-ca20f62538f5d9fe",
          "locked": true,
          "schema_version": 3,
          "solution": false,
          "task": false
        },
        "id": "NtvTn8fN-N2X"
      },
      "source": [
        "### Write a regex program that matches a string that has an 'a' followed by two or three 'b'."
      ]
    },
    {
      "cell_type": "code",
      "execution_count": null,
      "metadata": {
        "deletable": false,
        "nbgrader": {
          "cell_type": "code",
          "checksum": "bd89674e9483548d9a2e18a300cf415e",
          "grade": false,
          "grade_id": "cell-618c4367ee98ea41",
          "locked": false,
          "schema_version": 3,
          "solution": true,
          "task": false
        },
        "id": "N8_DfiN6-N2Y",
        "colab": {
          "base_uri": "https://localhost:8080/"
        },
        "outputId": "64581b7a-80be-4ca8-923e-4d76278f5a26"
      },
      "outputs": [
        {
          "output_type": "stream",
          "name": "stdout",
          "text": [
            "True\n"
          ]
        }
      ],
      "source": [
        "def ans5(text):\n",
        "    '''\n",
        "    text: String to check\n",
        "    Should return the 'True' if it's a match or 'False' if it's not a match.\n",
        "    '''\n",
        "    if (re.search(\"abb|abbb\", text)):\n",
        "      return True\n",
        "    else:\n",
        "      return False\n",
        "\n",
        "#Calling a function\n",
        "print(ans5(\"abb\"))"
      ]
    },
    {
      "cell_type": "code",
      "execution_count": null,
      "metadata": {
        "deletable": false,
        "editable": false,
        "nbgrader": {
          "cell_type": "code",
          "checksum": "242e4677c2da2c46c0ce9073dac0790a",
          "grade": true,
          "grade_id": "cell-6bad3621723a283c",
          "locked": true,
          "points": 1,
          "schema_version": 3,
          "solution": false,
          "task": false
        },
        "id": "r6dodfzK-N2Y",
        "colab": {
          "base_uri": "https://localhost:8080/"
        },
        "outputId": "ae12a6d6-3a0b-4111-d248-f9d8d3ed417d"
      },
      "outputs": [
        {
          "output_type": "stream",
          "name": "stdout",
          "text": [
            "False\n"
          ]
        }
      ],
      "source": [
        "#Calling a function\n",
        "print(ans5(\"aab\"))"
      ]
    },
    {
      "cell_type": "code",
      "execution_count": null,
      "metadata": {
        "deletable": false,
        "editable": false,
        "nbgrader": {
          "cell_type": "code",
          "checksum": "4dc1f05b349cdc8dce78d5268c39789d",
          "grade": false,
          "grade_id": "cell-a04a45a8ccb6f0e2",
          "locked": true,
          "schema_version": 3,
          "solution": false,
          "task": false
        },
        "id": "3wSXRV0L-N2Y"
      },
      "outputs": [],
      "source": [
        ""
      ]
    },
    {
      "cell_type": "markdown",
      "metadata": {
        "deletable": false,
        "editable": false,
        "nbgrader": {
          "cell_type": "markdown",
          "checksum": "21a09376303e9383400bd73969bff690",
          "grade": false,
          "grade_id": "cell-c67370fdca58ea02",
          "locked": true,
          "schema_version": 3,
          "solution": false,
          "task": false
        },
        "id": "UHsp5B5G-N2Y"
      },
      "source": [
        "### Write a regex program to separate the numbers and their position of a given string."
      ]
    },
    {
      "cell_type": "code",
      "execution_count": null,
      "metadata": {
        "ExecuteTime": {
          "end_time": "2021-12-09T12:06:11.991363Z",
          "start_time": "2021-12-09T12:06:11.987381Z"
        },
        "deletable": false,
        "nbgrader": {
          "cell_type": "code",
          "checksum": "77ace12d44e526a1f60cb5913710d279",
          "grade": false,
          "grade_id": "cell-6712bc7acd0447cd",
          "locked": false,
          "schema_version": 3,
          "solution": true,
          "task": false
        },
        "id": "ozjTO8bb-N2Z",
        "colab": {
          "base_uri": "https://localhost:8080/"
        },
        "outputId": "1c8f0d98-00b1-4d53-a764-63b62e95a217"
      },
      "outputs": [
        {
          "output_type": "stream",
          "name": "stdout",
          "text": [
            "([50, 4], [62, 75])\n"
          ]
        }
      ],
      "source": [
        "def ans6(string):\n",
        "    '''\n",
        "    Should return a tuple containing two elements ONLY\n",
        "    First tuple element should be a list of numbers in the given string.\n",
        "    Second tuple element should be a list of indices of the corresponding numbers found in the first tuple element.\n",
        "    \n",
        "    Ex: ans6('The following example creates an ArrayList with a capacity of 50 elements. 4 elements are then added to the ArrayList and the ArrayList is trimmed accordingly.')\n",
        "        Output:\n",
        "            ([50,4],[62,75])\n",
        "    '''\n",
        "    x=re.findall('\\d+',string)\n",
        "    a = []\n",
        "    res = []\n",
        "    for j in x:\n",
        "      a.append(int(j))\n",
        "    z = []\n",
        "    for i in x:\n",
        "      if i.isdigit():\n",
        "        y=re.search(i, string)\n",
        "        z.append(y.start())\n",
        "    res.append(a)\n",
        "    res.append(z)   \n",
        "    return tuple(res)\n",
        "\n",
        "#Calling the function\n",
        "str = 'The following example creates an ArrayList with a capacity of 50 elements. 4 elements are then added to the ArrayList and the ArrayList is trimmed accordingly.'\n",
        "print(ans6(str))"
      ]
    },
    {
      "cell_type": "code",
      "source": [
        "#Calling the function\n",
        "str = 'The following example creates an ArrayList with a capacity of 50 elements. 4 elements are then added to the ArrayList and the ArrayList is trimmed accordingly.'\n",
        "print(ans6(str))"
      ],
      "metadata": {
        "id": "NQEHTxhd7xgy",
        "colab": {
          "base_uri": "https://localhost:8080/"
        },
        "outputId": "738ee2f7-48bf-4e77-8a01-2a2f99c5f7a7"
      },
      "execution_count": 140,
      "outputs": [
        {
          "output_type": "stream",
          "name": "stdout",
          "text": [
            "([50, 4], [62, 75])\n"
          ]
        }
      ]
    },
    {
      "cell_type": "code",
      "execution_count": null,
      "metadata": {
        "ExecuteTime": {
          "end_time": "2021-12-09T12:06:29.819140Z",
          "start_time": "2021-12-09T12:06:29.810119Z"
        },
        "deletable": false,
        "editable": false,
        "nbgrader": {
          "cell_type": "code",
          "checksum": "be87a8e64fa7142fea35fb8519422502",
          "grade": true,
          "grade_id": "cell-f2355a3832688a18",
          "locked": true,
          "points": 1,
          "schema_version": 3,
          "solution": false,
          "task": false
        },
        "id": "TbpRxTcB-N2Z"
      },
      "outputs": [],
      "source": [
        ""
      ]
    },
    {
      "cell_type": "code",
      "execution_count": null,
      "metadata": {
        "ExecuteTime": {
          "end_time": "2021-12-09T12:06:20.610641Z",
          "start_time": "2021-12-09T12:06:20.591646Z"
        },
        "deletable": false,
        "editable": false,
        "nbgrader": {
          "cell_type": "code",
          "checksum": "c327b494e862627b9795e6830bb4d8cf",
          "grade": false,
          "grade_id": "cell-1ed0df92c93f0c46",
          "locked": true,
          "schema_version": 3,
          "solution": false,
          "task": false
        },
        "id": "leJ6pGuj-N2Z"
      },
      "outputs": [],
      "source": [
        ""
      ]
    },
    {
      "cell_type": "markdown",
      "metadata": {
        "deletable": false,
        "editable": false,
        "nbgrader": {
          "cell_type": "markdown",
          "checksum": "eb115185142e3c9127630eb30d26b807",
          "grade": false,
          "grade_id": "cell-92ca610afd33f9db",
          "locked": true,
          "schema_version": 3,
          "solution": false,
          "task": false
        },
        "id": "qyd-6tik-N2Z"
      },
      "source": [
        "### Write a regex program to find the position of the first occurence of a substring from a given string."
      ]
    },
    {
      "cell_type": "code",
      "execution_count": null,
      "metadata": {
        "deletable": false,
        "nbgrader": {
          "cell_type": "code",
          "checksum": "9bc83dd7017742fcfbe33e7951c7f25c",
          "grade": false,
          "grade_id": "cell-727679b52dfddfab",
          "locked": false,
          "schema_version": 3,
          "solution": true,
          "task": false
        },
        "id": "Yo5LhobA-N2a",
        "colab": {
          "base_uri": "https://localhost:8080/"
        },
        "outputId": "e30935a9-0ecb-4cc6-a8d6-1539ae9cd5da"
      },
      "outputs": [
        {
          "output_type": "stream",
          "name": "stdout",
          "text": [
            "8\n"
          ]
        }
      ],
      "source": [
        "def ans7(string,substring):\n",
        "    '''\n",
        "    Should return the number of the index position of the starting of the first occurrence of given substring. If the string doesn't contain the substring then it returns -1.\n",
        "    Ex: ans7('allthereistoitis','is') returns: 9\n",
        "    '''\n",
        "    x = re.search(substring,string)\n",
        "    return x.start()\n",
        "\n",
        "#Calling the function\n",
        "print(ans7('allthereistoitis','is'))"
      ]
    },
    {
      "cell_type": "code",
      "execution_count": 141,
      "metadata": {
        "deletable": false,
        "editable": false,
        "nbgrader": {
          "cell_type": "code",
          "checksum": "61ca6dd6704f13e1339390d7f033c4d2",
          "grade": true,
          "grade_id": "cell-39817ba05b788f61",
          "locked": true,
          "points": 2,
          "schema_version": 3,
          "solution": false,
          "task": false
        },
        "id": "EWvINe0u-N2a",
        "colab": {
          "base_uri": "https://localhost:8080/"
        },
        "outputId": "9daef6de-aca1-4d8f-d3bb-89ee1fa28b98"
      },
      "outputs": [
        {
          "output_type": "stream",
          "name": "stdout",
          "text": [
            "8\n"
          ]
        }
      ],
      "source": [
        "#Calling the function\n",
        "print(ans7('allthereistoitis','is'))"
      ]
    },
    {
      "cell_type": "code",
      "execution_count": null,
      "metadata": {
        "deletable": false,
        "editable": false,
        "nbgrader": {
          "cell_type": "code",
          "checksum": "377f05ca084830f56fc8cf37c44ebf18",
          "grade": false,
          "grade_id": "cell-7d3a071987457a60",
          "locked": true,
          "schema_version": 3,
          "solution": false,
          "task": false
        },
        "id": "iq7y65yL-N2a"
      },
      "outputs": [],
      "source": [
        ""
      ]
    }
  ],
  "metadata": {
    "kernelspec": {
      "display_name": "Python 3 (ipykernel)",
      "language": "python",
      "name": "python3"
    },
    "language_info": {
      "codemirror_mode": {
        "name": "ipython",
        "version": 3
      },
      "file_extension": ".py",
      "mimetype": "text/x-python",
      "name": "python",
      "nbconvert_exporter": "python",
      "pygments_lexer": "ipython3",
      "version": "3.9.1"
    },
    "toc": {
      "base_numbering": 1,
      "nav_menu": {},
      "number_sections": true,
      "sideBar": true,
      "skip_h1_title": false,
      "title_cell": "Table of Contents",
      "title_sidebar": "Contents",
      "toc_cell": false,
      "toc_position": {},
      "toc_section_display": true,
      "toc_window_display": false
    },
    "varInspector": {
      "cols": {
        "lenName": 16,
        "lenType": 16,
        "lenVar": 40
      },
      "kernels_config": {
        "python": {
          "delete_cmd_postfix": "",
          "delete_cmd_prefix": "del ",
          "library": "var_list.py",
          "varRefreshCmd": "print(var_dic_list())"
        },
        "r": {
          "delete_cmd_postfix": ") ",
          "delete_cmd_prefix": "rm(",
          "library": "var_list.r",
          "varRefreshCmd": "cat(var_dic_list()) "
        }
      },
      "types_to_exclude": [
        "module",
        "function",
        "builtin_function_or_method",
        "instance",
        "_Feature"
      ],
      "window_display": false
    },
    "colab": {
      "name": "Divya_Pillay_PW4-A1.ipynb",
      "provenance": [],
      "collapsed_sections": []
    }
  },
  "nbformat": 4,
  "nbformat_minor": 0
}