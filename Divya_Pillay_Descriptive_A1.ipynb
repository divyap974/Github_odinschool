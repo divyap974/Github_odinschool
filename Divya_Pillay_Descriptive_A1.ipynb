{
 "cells": [
  {
   "cell_type": "code",
   "execution_count": 2,
   "id": "a0e550a4",
   "metadata": {},
   "outputs": [],
   "source": [
    "import numpy as np\n",
    "import pandas as pd\n",
    "import matplotlib.pyplot as plt\n",
    "import seaborn as sns"
   ]
  },
  {
   "cell_type": "code",
   "execution_count": 13,
   "id": "219bfc0b",
   "metadata": {},
   "outputs": [],
   "source": [
    "data_set = pd.read_csv('Downloads/diabetes.csv')"
   ]
  },
  {
   "cell_type": "markdown",
   "id": "4a061ef6",
   "metadata": {},
   "source": [
    "1. Please do the basic exploration of data and explain missing values, number of rows and columns and data types in statistical term."
   ]
  },
  {
   "cell_type": "code",
   "execution_count": 14,
   "id": "1a0bf7af",
   "metadata": {},
   "outputs": [
    {
     "data": {
      "text/html": [
       "<div>\n",
       "<style scoped>\n",
       "    .dataframe tbody tr th:only-of-type {\n",
       "        vertical-align: middle;\n",
       "    }\n",
       "\n",
       "    .dataframe tbody tr th {\n",
       "        vertical-align: top;\n",
       "    }\n",
       "\n",
       "    .dataframe thead th {\n",
       "        text-align: right;\n",
       "    }\n",
       "</style>\n",
       "<table border=\"1\" class=\"dataframe\">\n",
       "  <thead>\n",
       "    <tr style=\"text-align: right;\">\n",
       "      <th></th>\n",
       "      <th>Pregnancies</th>\n",
       "      <th>Glucose</th>\n",
       "      <th>BloodPressure</th>\n",
       "      <th>SkinThickness</th>\n",
       "      <th>Insulin</th>\n",
       "      <th>BMI</th>\n",
       "      <th>DiabetesPedigreeFunction</th>\n",
       "      <th>Age</th>\n",
       "      <th>Outcome</th>\n",
       "    </tr>\n",
       "  </thead>\n",
       "  <tbody>\n",
       "    <tr>\n",
       "      <th>0</th>\n",
       "      <td>6</td>\n",
       "      <td>148</td>\n",
       "      <td>72</td>\n",
       "      <td>35</td>\n",
       "      <td>0</td>\n",
       "      <td>33.6</td>\n",
       "      <td>0.627</td>\n",
       "      <td>50</td>\n",
       "      <td>1</td>\n",
       "    </tr>\n",
       "    <tr>\n",
       "      <th>1</th>\n",
       "      <td>1</td>\n",
       "      <td>85</td>\n",
       "      <td>66</td>\n",
       "      <td>29</td>\n",
       "      <td>0</td>\n",
       "      <td>26.6</td>\n",
       "      <td>0.351</td>\n",
       "      <td>31</td>\n",
       "      <td>0</td>\n",
       "    </tr>\n",
       "    <tr>\n",
       "      <th>2</th>\n",
       "      <td>8</td>\n",
       "      <td>183</td>\n",
       "      <td>64</td>\n",
       "      <td>0</td>\n",
       "      <td>0</td>\n",
       "      <td>23.3</td>\n",
       "      <td>0.672</td>\n",
       "      <td>32</td>\n",
       "      <td>1</td>\n",
       "    </tr>\n",
       "    <tr>\n",
       "      <th>3</th>\n",
       "      <td>1</td>\n",
       "      <td>89</td>\n",
       "      <td>66</td>\n",
       "      <td>23</td>\n",
       "      <td>94</td>\n",
       "      <td>28.1</td>\n",
       "      <td>0.167</td>\n",
       "      <td>21</td>\n",
       "      <td>0</td>\n",
       "    </tr>\n",
       "    <tr>\n",
       "      <th>4</th>\n",
       "      <td>0</td>\n",
       "      <td>137</td>\n",
       "      <td>40</td>\n",
       "      <td>35</td>\n",
       "      <td>168</td>\n",
       "      <td>43.1</td>\n",
       "      <td>2.288</td>\n",
       "      <td>33</td>\n",
       "      <td>1</td>\n",
       "    </tr>\n",
       "    <tr>\n",
       "      <th>...</th>\n",
       "      <td>...</td>\n",
       "      <td>...</td>\n",
       "      <td>...</td>\n",
       "      <td>...</td>\n",
       "      <td>...</td>\n",
       "      <td>...</td>\n",
       "      <td>...</td>\n",
       "      <td>...</td>\n",
       "      <td>...</td>\n",
       "    </tr>\n",
       "    <tr>\n",
       "      <th>763</th>\n",
       "      <td>10</td>\n",
       "      <td>101</td>\n",
       "      <td>76</td>\n",
       "      <td>48</td>\n",
       "      <td>180</td>\n",
       "      <td>32.9</td>\n",
       "      <td>0.171</td>\n",
       "      <td>63</td>\n",
       "      <td>0</td>\n",
       "    </tr>\n",
       "    <tr>\n",
       "      <th>764</th>\n",
       "      <td>2</td>\n",
       "      <td>122</td>\n",
       "      <td>70</td>\n",
       "      <td>27</td>\n",
       "      <td>0</td>\n",
       "      <td>36.8</td>\n",
       "      <td>0.340</td>\n",
       "      <td>27</td>\n",
       "      <td>0</td>\n",
       "    </tr>\n",
       "    <tr>\n",
       "      <th>765</th>\n",
       "      <td>5</td>\n",
       "      <td>121</td>\n",
       "      <td>72</td>\n",
       "      <td>23</td>\n",
       "      <td>112</td>\n",
       "      <td>26.2</td>\n",
       "      <td>0.245</td>\n",
       "      <td>30</td>\n",
       "      <td>0</td>\n",
       "    </tr>\n",
       "    <tr>\n",
       "      <th>766</th>\n",
       "      <td>1</td>\n",
       "      <td>126</td>\n",
       "      <td>60</td>\n",
       "      <td>0</td>\n",
       "      <td>0</td>\n",
       "      <td>30.1</td>\n",
       "      <td>0.349</td>\n",
       "      <td>47</td>\n",
       "      <td>1</td>\n",
       "    </tr>\n",
       "    <tr>\n",
       "      <th>767</th>\n",
       "      <td>1</td>\n",
       "      <td>93</td>\n",
       "      <td>70</td>\n",
       "      <td>31</td>\n",
       "      <td>0</td>\n",
       "      <td>30.4</td>\n",
       "      <td>0.315</td>\n",
       "      <td>23</td>\n",
       "      <td>0</td>\n",
       "    </tr>\n",
       "  </tbody>\n",
       "</table>\n",
       "<p>768 rows × 9 columns</p>\n",
       "</div>"
      ],
      "text/plain": [
       "     Pregnancies  Glucose  BloodPressure  SkinThickness  Insulin   BMI  \\\n",
       "0              6      148             72             35        0  33.6   \n",
       "1              1       85             66             29        0  26.6   \n",
       "2              8      183             64              0        0  23.3   \n",
       "3              1       89             66             23       94  28.1   \n",
       "4              0      137             40             35      168  43.1   \n",
       "..           ...      ...            ...            ...      ...   ...   \n",
       "763           10      101             76             48      180  32.9   \n",
       "764            2      122             70             27        0  36.8   \n",
       "765            5      121             72             23      112  26.2   \n",
       "766            1      126             60              0        0  30.1   \n",
       "767            1       93             70             31        0  30.4   \n",
       "\n",
       "     DiabetesPedigreeFunction  Age  Outcome  \n",
       "0                       0.627   50        1  \n",
       "1                       0.351   31        0  \n",
       "2                       0.672   32        1  \n",
       "3                       0.167   21        0  \n",
       "4                       2.288   33        1  \n",
       "..                        ...  ...      ...  \n",
       "763                     0.171   63        0  \n",
       "764                     0.340   27        0  \n",
       "765                     0.245   30        0  \n",
       "766                     0.349   47        1  \n",
       "767                     0.315   23        0  \n",
       "\n",
       "[768 rows x 9 columns]"
      ]
     },
     "execution_count": 14,
     "metadata": {},
     "output_type": "execute_result"
    }
   ],
   "source": [
    "data_set"
   ]
  },
  {
   "cell_type": "markdown",
   "id": "b7311098",
   "metadata": {},
   "source": [
    "The given dataset consists of 9 variables and 768 observations"
   ]
  },
  {
   "cell_type": "code",
   "execution_count": 5,
   "id": "2ba5b60d",
   "metadata": {},
   "outputs": [
    {
     "data": {
      "text/html": [
       "<div>\n",
       "<style scoped>\n",
       "    .dataframe tbody tr th:only-of-type {\n",
       "        vertical-align: middle;\n",
       "    }\n",
       "\n",
       "    .dataframe tbody tr th {\n",
       "        vertical-align: top;\n",
       "    }\n",
       "\n",
       "    .dataframe thead th {\n",
       "        text-align: right;\n",
       "    }\n",
       "</style>\n",
       "<table border=\"1\" class=\"dataframe\">\n",
       "  <thead>\n",
       "    <tr style=\"text-align: right;\">\n",
       "      <th></th>\n",
       "      <th>Pregnancies</th>\n",
       "      <th>Glucose</th>\n",
       "      <th>BloodPressure</th>\n",
       "      <th>SkinThickness</th>\n",
       "      <th>Insulin</th>\n",
       "      <th>BMI</th>\n",
       "      <th>DiabetesPedigreeFunction</th>\n",
       "      <th>Age</th>\n",
       "      <th>Outcome</th>\n",
       "    </tr>\n",
       "  </thead>\n",
       "  <tbody>\n",
       "    <tr>\n",
       "      <th>count</th>\n",
       "      <td>768.000000</td>\n",
       "      <td>768.000000</td>\n",
       "      <td>768.000000</td>\n",
       "      <td>768.000000</td>\n",
       "      <td>768.000000</td>\n",
       "      <td>768.000000</td>\n",
       "      <td>768.000000</td>\n",
       "      <td>768.000000</td>\n",
       "      <td>768.000000</td>\n",
       "    </tr>\n",
       "    <tr>\n",
       "      <th>mean</th>\n",
       "      <td>3.845052</td>\n",
       "      <td>120.894531</td>\n",
       "      <td>69.105469</td>\n",
       "      <td>20.536458</td>\n",
       "      <td>79.799479</td>\n",
       "      <td>31.992578</td>\n",
       "      <td>0.471876</td>\n",
       "      <td>33.240885</td>\n",
       "      <td>0.348958</td>\n",
       "    </tr>\n",
       "    <tr>\n",
       "      <th>std</th>\n",
       "      <td>3.369578</td>\n",
       "      <td>31.972618</td>\n",
       "      <td>19.355807</td>\n",
       "      <td>15.952218</td>\n",
       "      <td>115.244002</td>\n",
       "      <td>7.884160</td>\n",
       "      <td>0.331329</td>\n",
       "      <td>11.760232</td>\n",
       "      <td>0.476951</td>\n",
       "    </tr>\n",
       "    <tr>\n",
       "      <th>min</th>\n",
       "      <td>0.000000</td>\n",
       "      <td>0.000000</td>\n",
       "      <td>0.000000</td>\n",
       "      <td>0.000000</td>\n",
       "      <td>0.000000</td>\n",
       "      <td>0.000000</td>\n",
       "      <td>0.078000</td>\n",
       "      <td>21.000000</td>\n",
       "      <td>0.000000</td>\n",
       "    </tr>\n",
       "    <tr>\n",
       "      <th>25%</th>\n",
       "      <td>1.000000</td>\n",
       "      <td>99.000000</td>\n",
       "      <td>62.000000</td>\n",
       "      <td>0.000000</td>\n",
       "      <td>0.000000</td>\n",
       "      <td>27.300000</td>\n",
       "      <td>0.243750</td>\n",
       "      <td>24.000000</td>\n",
       "      <td>0.000000</td>\n",
       "    </tr>\n",
       "    <tr>\n",
       "      <th>50%</th>\n",
       "      <td>3.000000</td>\n",
       "      <td>117.000000</td>\n",
       "      <td>72.000000</td>\n",
       "      <td>23.000000</td>\n",
       "      <td>30.500000</td>\n",
       "      <td>32.000000</td>\n",
       "      <td>0.372500</td>\n",
       "      <td>29.000000</td>\n",
       "      <td>0.000000</td>\n",
       "    </tr>\n",
       "    <tr>\n",
       "      <th>75%</th>\n",
       "      <td>6.000000</td>\n",
       "      <td>140.250000</td>\n",
       "      <td>80.000000</td>\n",
       "      <td>32.000000</td>\n",
       "      <td>127.250000</td>\n",
       "      <td>36.600000</td>\n",
       "      <td>0.626250</td>\n",
       "      <td>41.000000</td>\n",
       "      <td>1.000000</td>\n",
       "    </tr>\n",
       "    <tr>\n",
       "      <th>max</th>\n",
       "      <td>17.000000</td>\n",
       "      <td>199.000000</td>\n",
       "      <td>122.000000</td>\n",
       "      <td>99.000000</td>\n",
       "      <td>846.000000</td>\n",
       "      <td>67.100000</td>\n",
       "      <td>2.420000</td>\n",
       "      <td>81.000000</td>\n",
       "      <td>1.000000</td>\n",
       "    </tr>\n",
       "  </tbody>\n",
       "</table>\n",
       "</div>"
      ],
      "text/plain": [
       "       Pregnancies     Glucose  BloodPressure  SkinThickness     Insulin  \\\n",
       "count   768.000000  768.000000     768.000000     768.000000  768.000000   \n",
       "mean      3.845052  120.894531      69.105469      20.536458   79.799479   \n",
       "std       3.369578   31.972618      19.355807      15.952218  115.244002   \n",
       "min       0.000000    0.000000       0.000000       0.000000    0.000000   \n",
       "25%       1.000000   99.000000      62.000000       0.000000    0.000000   \n",
       "50%       3.000000  117.000000      72.000000      23.000000   30.500000   \n",
       "75%       6.000000  140.250000      80.000000      32.000000  127.250000   \n",
       "max      17.000000  199.000000     122.000000      99.000000  846.000000   \n",
       "\n",
       "              BMI  DiabetesPedigreeFunction         Age     Outcome  \n",
       "count  768.000000                768.000000  768.000000  768.000000  \n",
       "mean    31.992578                  0.471876   33.240885    0.348958  \n",
       "std      7.884160                  0.331329   11.760232    0.476951  \n",
       "min      0.000000                  0.078000   21.000000    0.000000  \n",
       "25%     27.300000                  0.243750   24.000000    0.000000  \n",
       "50%     32.000000                  0.372500   29.000000    0.000000  \n",
       "75%     36.600000                  0.626250   41.000000    1.000000  \n",
       "max     67.100000                  2.420000   81.000000    1.000000  "
      ]
     },
     "execution_count": 5,
     "metadata": {},
     "output_type": "execute_result"
    }
   ],
   "source": [
    "data_set.describe()"
   ]
  },
  {
   "cell_type": "markdown",
   "id": "ee834ab0",
   "metadata": {},
   "source": [
    "## Checking if the dataset consists of empty data"
   ]
  },
  {
   "cell_type": "code",
   "execution_count": 11,
   "id": "8050e4b4",
   "metadata": {},
   "outputs": [
    {
     "data": {
      "text/html": [
       "<div>\n",
       "<style scoped>\n",
       "    .dataframe tbody tr th:only-of-type {\n",
       "        vertical-align: middle;\n",
       "    }\n",
       "\n",
       "    .dataframe tbody tr th {\n",
       "        vertical-align: top;\n",
       "    }\n",
       "\n",
       "    .dataframe thead th {\n",
       "        text-align: right;\n",
       "    }\n",
       "</style>\n",
       "<table border=\"1\" class=\"dataframe\">\n",
       "  <thead>\n",
       "    <tr style=\"text-align: right;\">\n",
       "      <th></th>\n",
       "      <th>Pregnancies</th>\n",
       "      <th>Glucose</th>\n",
       "      <th>BloodPressure</th>\n",
       "      <th>SkinThickness</th>\n",
       "      <th>Insulin</th>\n",
       "      <th>BMI</th>\n",
       "      <th>DiabetesPedigreeFunction</th>\n",
       "      <th>Age</th>\n",
       "      <th>Outcome</th>\n",
       "    </tr>\n",
       "  </thead>\n",
       "  <tbody>\n",
       "    <tr>\n",
       "      <th>0</th>\n",
       "      <td>True</td>\n",
       "      <td>True</td>\n",
       "      <td>True</td>\n",
       "      <td>True</td>\n",
       "      <td>True</td>\n",
       "      <td>True</td>\n",
       "      <td>True</td>\n",
       "      <td>True</td>\n",
       "      <td>True</td>\n",
       "    </tr>\n",
       "    <tr>\n",
       "      <th>1</th>\n",
       "      <td>True</td>\n",
       "      <td>True</td>\n",
       "      <td>True</td>\n",
       "      <td>True</td>\n",
       "      <td>True</td>\n",
       "      <td>True</td>\n",
       "      <td>True</td>\n",
       "      <td>True</td>\n",
       "      <td>True</td>\n",
       "    </tr>\n",
       "    <tr>\n",
       "      <th>2</th>\n",
       "      <td>True</td>\n",
       "      <td>True</td>\n",
       "      <td>True</td>\n",
       "      <td>True</td>\n",
       "      <td>True</td>\n",
       "      <td>True</td>\n",
       "      <td>True</td>\n",
       "      <td>True</td>\n",
       "      <td>True</td>\n",
       "    </tr>\n",
       "    <tr>\n",
       "      <th>3</th>\n",
       "      <td>True</td>\n",
       "      <td>True</td>\n",
       "      <td>True</td>\n",
       "      <td>True</td>\n",
       "      <td>True</td>\n",
       "      <td>True</td>\n",
       "      <td>True</td>\n",
       "      <td>True</td>\n",
       "      <td>True</td>\n",
       "    </tr>\n",
       "    <tr>\n",
       "      <th>4</th>\n",
       "      <td>True</td>\n",
       "      <td>True</td>\n",
       "      <td>True</td>\n",
       "      <td>True</td>\n",
       "      <td>True</td>\n",
       "      <td>True</td>\n",
       "      <td>True</td>\n",
       "      <td>True</td>\n",
       "      <td>True</td>\n",
       "    </tr>\n",
       "    <tr>\n",
       "      <th>...</th>\n",
       "      <td>...</td>\n",
       "      <td>...</td>\n",
       "      <td>...</td>\n",
       "      <td>...</td>\n",
       "      <td>...</td>\n",
       "      <td>...</td>\n",
       "      <td>...</td>\n",
       "      <td>...</td>\n",
       "      <td>...</td>\n",
       "    </tr>\n",
       "    <tr>\n",
       "      <th>763</th>\n",
       "      <td>True</td>\n",
       "      <td>True</td>\n",
       "      <td>True</td>\n",
       "      <td>True</td>\n",
       "      <td>True</td>\n",
       "      <td>True</td>\n",
       "      <td>True</td>\n",
       "      <td>True</td>\n",
       "      <td>True</td>\n",
       "    </tr>\n",
       "    <tr>\n",
       "      <th>764</th>\n",
       "      <td>True</td>\n",
       "      <td>True</td>\n",
       "      <td>True</td>\n",
       "      <td>True</td>\n",
       "      <td>True</td>\n",
       "      <td>True</td>\n",
       "      <td>True</td>\n",
       "      <td>True</td>\n",
       "      <td>True</td>\n",
       "    </tr>\n",
       "    <tr>\n",
       "      <th>765</th>\n",
       "      <td>True</td>\n",
       "      <td>True</td>\n",
       "      <td>True</td>\n",
       "      <td>True</td>\n",
       "      <td>True</td>\n",
       "      <td>True</td>\n",
       "      <td>True</td>\n",
       "      <td>True</td>\n",
       "      <td>True</td>\n",
       "    </tr>\n",
       "    <tr>\n",
       "      <th>766</th>\n",
       "      <td>True</td>\n",
       "      <td>True</td>\n",
       "      <td>True</td>\n",
       "      <td>True</td>\n",
       "      <td>True</td>\n",
       "      <td>True</td>\n",
       "      <td>True</td>\n",
       "      <td>True</td>\n",
       "      <td>True</td>\n",
       "    </tr>\n",
       "    <tr>\n",
       "      <th>767</th>\n",
       "      <td>True</td>\n",
       "      <td>True</td>\n",
       "      <td>True</td>\n",
       "      <td>True</td>\n",
       "      <td>True</td>\n",
       "      <td>True</td>\n",
       "      <td>True</td>\n",
       "      <td>True</td>\n",
       "      <td>True</td>\n",
       "    </tr>\n",
       "  </tbody>\n",
       "</table>\n",
       "<p>768 rows × 9 columns</p>\n",
       "</div>"
      ],
      "text/plain": [
       "     Pregnancies  Glucose  BloodPressure  SkinThickness  Insulin   BMI  \\\n",
       "0           True     True           True           True     True  True   \n",
       "1           True     True           True           True     True  True   \n",
       "2           True     True           True           True     True  True   \n",
       "3           True     True           True           True     True  True   \n",
       "4           True     True           True           True     True  True   \n",
       "..           ...      ...            ...            ...      ...   ...   \n",
       "763         True     True           True           True     True  True   \n",
       "764         True     True           True           True     True  True   \n",
       "765         True     True           True           True     True  True   \n",
       "766         True     True           True           True     True  True   \n",
       "767         True     True           True           True     True  True   \n",
       "\n",
       "     DiabetesPedigreeFunction   Age  Outcome  \n",
       "0                        True  True     True  \n",
       "1                        True  True     True  \n",
       "2                        True  True     True  \n",
       "3                        True  True     True  \n",
       "4                        True  True     True  \n",
       "..                        ...   ...      ...  \n",
       "763                      True  True     True  \n",
       "764                      True  True     True  \n",
       "765                      True  True     True  \n",
       "766                      True  True     True  \n",
       "767                      True  True     True  \n",
       "\n",
       "[768 rows x 9 columns]"
      ]
     },
     "execution_count": 11,
     "metadata": {},
     "output_type": "execute_result"
    }
   ],
   "source": [
    "data_set.notnull()"
   ]
  },
  {
   "cell_type": "markdown",
   "id": "39ad5e21",
   "metadata": {},
   "source": [
    "There are no missing values present in dataset"
   ]
  },
  {
   "cell_type": "markdown",
   "id": "ea51c01c",
   "metadata": {},
   "source": [
    "## Getting the info for data set"
   ]
  },
  {
   "cell_type": "code",
   "execution_count": 12,
   "id": "0d6c85ac",
   "metadata": {},
   "outputs": [
    {
     "name": "stdout",
     "output_type": "stream",
     "text": [
      "<class 'pandas.core.frame.DataFrame'>\n",
      "RangeIndex: 768 entries, 0 to 767\n",
      "Data columns (total 9 columns):\n",
      " #   Column                    Non-Null Count  Dtype  \n",
      "---  ------                    --------------  -----  \n",
      " 0   Pregnancies               768 non-null    int64  \n",
      " 1   Glucose                   768 non-null    int64  \n",
      " 2   BloodPressure             768 non-null    int64  \n",
      " 3   SkinThickness             768 non-null    int64  \n",
      " 4   Insulin                   768 non-null    int64  \n",
      " 5   BMI                       768 non-null    float64\n",
      " 6   DiabetesPedigreeFunction  768 non-null    float64\n",
      " 7   Age                       768 non-null    int64  \n",
      " 8   Outcome                   768 non-null    int64  \n",
      "dtypes: float64(2), int64(7)\n",
      "memory usage: 54.1 KB\n"
     ]
    }
   ],
   "source": [
    "data_set.info()"
   ]
  },
  {
   "cell_type": "markdown",
   "id": "7ba9b3ec",
   "metadata": {},
   "source": [
    "By looking into the info we can understand that the variable named Pregnancies, Glucose, BloodPressure, SkinThickness, Insulin, Age and outcome are discrete data types and BMI & DPF are continuous data types "
   ]
  },
  {
   "cell_type": "markdown",
   "id": "db31ffdc",
   "metadata": {},
   "source": [
    "2. Calculate appropriate measures of central tendency for Glucose and outcome column only?"
   ]
  },
  {
   "cell_type": "code",
   "execution_count": 19,
   "id": "c0a3260d",
   "metadata": {},
   "outputs": [
    {
     "name": "stdout",
     "output_type": "stream",
     "text": [
      "120.89453125\n"
     ]
    }
   ],
   "source": [
    "mean_Gluc = data_set['Glucose'].mean()\n",
    "print(mean_Gluc)"
   ]
  },
  {
   "cell_type": "code",
   "execution_count": 21,
   "id": "a52c2e41",
   "metadata": {},
   "outputs": [
    {
     "name": "stdout",
     "output_type": "stream",
     "text": [
      "117.0\n"
     ]
    }
   ],
   "source": [
    "median_Gluc = data_set['Glucose'].median()\n",
    "print(median_Gluc)"
   ]
  },
  {
   "cell_type": "code",
   "execution_count": 31,
   "id": "4acbd99b",
   "metadata": {},
   "outputs": [
    {
     "data": {
      "text/plain": [
       "99.5"
      ]
     },
     "execution_count": 31,
     "metadata": {},
     "output_type": "execute_result"
    }
   ],
   "source": [
    "mode_Gluc = data_set['Glucose'].mode()\n",
    "mode_Gluc = (mode_Gluc[0] + mode_Gluc[1])/2\n",
    "mode_Gluc"
   ]
  },
  {
   "cell_type": "markdown",
   "id": "4b7a405c",
   "metadata": {},
   "source": [
    "## Measures of central tendency for glucose is : \n",
    "* Mean = 120.894531\n",
    "* Median = 117.0\n",
    "* Mode = 99.5"
   ]
  },
  {
   "cell_type": "code",
   "execution_count": 34,
   "id": "cba44358",
   "metadata": {},
   "outputs": [
    {
     "data": {
      "text/plain": [
       "0.3489583333333333"
      ]
     },
     "execution_count": 34,
     "metadata": {},
     "output_type": "execute_result"
    }
   ],
   "source": [
    "mean_out = data_set['Outcome'].mean()\n",
    "mean_out"
   ]
  },
  {
   "cell_type": "code",
   "execution_count": 35,
   "id": "efaa3d63",
   "metadata": {},
   "outputs": [
    {
     "data": {
      "text/plain": [
       "0.0"
      ]
     },
     "execution_count": 35,
     "metadata": {},
     "output_type": "execute_result"
    }
   ],
   "source": [
    "median_out = data_set['Outcome'].median()\n",
    "median_out"
   ]
  },
  {
   "cell_type": "code",
   "execution_count": 36,
   "id": "d668804d",
   "metadata": {},
   "outputs": [
    {
     "data": {
      "text/plain": [
       "0    0\n",
       "dtype: int64"
      ]
     },
     "execution_count": 36,
     "metadata": {},
     "output_type": "execute_result"
    }
   ],
   "source": [
    "mode_out = data_set['Outcome'].mode()\n",
    "mode_out"
   ]
  },
  {
   "cell_type": "markdown",
   "id": "c46c6da4",
   "metadata": {},
   "source": [
    "## Measures of central tendency for Outcome is:\n",
    "* Mean=0.3489583\n",
    "* Median=0.0\n",
    "* Mode = 0"
   ]
  },
  {
   "cell_type": "markdown",
   "id": "f5ec08e7",
   "metadata": {},
   "source": [
    "* Given data frame consists of 768 observations ans 9 variables\n",
    "* columns like Pregnancies, Glucose, BP, SkinThickness, Age & Outcome are Discrete numerical data types.\n",
    "* Columns named BMI & DPF are continuous types of data.\n",
    "* Column named Glucose is skewed, whereas Outcome is symmetric\n",
    "* Mean, Meadian and Mode for Outcome column is same."
   ]
  },
  {
   "cell_type": "markdown",
   "id": "21458727",
   "metadata": {},
   "source": [
    "## Plot to examine the relationship between Age and Glucose."
   ]
  },
  {
   "cell_type": "code",
   "execution_count": 51,
   "id": "a80d9c90",
   "metadata": {},
   "outputs": [
    {
     "data": {
      "image/png": "[encoded data removed]",
      "text/plain": [
       "<Figure size 1440x648 with 1 Axes>"
      ]
     },
     "metadata": {
      "needs_background": "light"
     },
     "output_type": "display_data"
    }
   ],
   "source": [
    "plt.figure(figsize=(20, 9))\n",
    "#x = data_set['Age']\n",
    "#y = data_set['Glucose']\n",
    "sns.scatterplot(x='Age',y='Glucose',data = data_set)\n",
    "plt.show()"
   ]
  },
  {
   "cell_type": "markdown",
   "id": "430c9f60",
   "metadata": {},
   "source": [
    "## Plot to see the distribution of Outcome variable"
   ]
  },
  {
   "cell_type": "code",
   "execution_count": 55,
   "id": "853fa5e1",
   "metadata": {},
   "outputs": [
    {
     "data": {
      "text/plain": [
       "<AxesSubplot:xlabel='Outcome', ylabel='count'>"
      ]
     },
     "execution_count": 55,
     "metadata": {},
     "output_type": "execute_result"
    },
    {
     "data": {
      "image/png": "[encoded data removed]",
      "text/plain": [
       "<Figure size 432x288 with 1 Axes>"
      ]
     },
     "metadata": {
      "needs_background": "light"
     },
     "output_type": "display_data"
    }
   ],
   "source": [
    "sns.countplot(x='Outcome',data = data_set)"
   ]
  },
  {
   "cell_type": "markdown",
   "id": "eda8acd1",
   "metadata": {},
   "source": [
    "Outcome 0 is more than 1 that means non-diabetic count is more than diabetic counts."
   ]
  },
  {
   "cell_type": "markdown",
   "id": "35b14005",
   "metadata": {},
   "source": [
    "## Examination of the distribution of numerical data"
   ]
  },
  {
   "cell_type": "code",
   "execution_count": 57,
   "id": "f1a9aa3f",
   "metadata": {},
   "outputs": [
    {
     "data": {
      "text/plain": [
       "Pregnancies                 0.901674\n",
       "Glucose                     0.173754\n",
       "BloodPressure              -1.843608\n",
       "SkinThickness               0.109372\n",
       "Insulin                     2.272251\n",
       "BMI                        -0.428982\n",
       "DiabetesPedigreeFunction    1.919911\n",
       "Age                         1.129597\n",
       "Outcome                     0.635017\n",
       "dtype: float64"
      ]
     },
     "execution_count": 57,
     "metadata": {},
     "output_type": "execute_result"
    }
   ],
   "source": [
    "data_set.skew()"
   ]
  },
  {
   "cell_type": "code",
   "execution_count": 65,
   "id": "8c4f670b",
   "metadata": {},
   "outputs": [
    {
     "data": {
      "text/plain": [
       "<AxesSubplot:xlabel='Pregnancies', ylabel='Count'>"
      ]
     },
     "execution_count": 65,
     "metadata": {},
     "output_type": "execute_result"
    },
    {
     "data": {
      "image/png": "[encoded data removed]",
      "text/plain": [
       "<Figure size 432x288 with 1 Axes>"
      ]
     },
     "metadata": {
      "needs_background": "light"
     },
     "output_type": "display_data"
    }
   ],
   "source": [
    "sns.histplot(x='Pregnancies',data = data_set, kde=True,color = 'r')"
   ]
  },
  {
   "cell_type": "markdown",
   "id": "11a3521b",
   "metadata": {},
   "source": [
    "The Pregnancies variable is right skewed."
   ]
  },
  {
   "cell_type": "code",
   "execution_count": 67,
   "id": "c91bf853",
   "metadata": {},
   "outputs": [
    {
     "data": {
      "text/plain": [
       "<AxesSubplot:xlabel='Glucose', ylabel='Count'>"
      ]
     },
     "execution_count": 67,
     "metadata": {},
     "output_type": "execute_result"
    },
    {
     "data": {
      "image/png": "[encoded data removed]",
      "text/plain": [
       "<Figure size 432x288 with 1 Axes>"
      ]
     },
     "metadata": {
      "needs_background": "light"
     },
     "output_type": "display_data"
    }
   ],
   "source": [
    "sns.histplot(x='Glucose',data = data_set, kde=True,color = 'g')"
   ]
  },
  {
   "cell_type": "markdown",
   "id": "276689ba",
   "metadata": {},
   "source": [
    "Hence Glucose observations appears to be symmetric"
   ]
  },
  {
   "cell_type": "code",
   "execution_count": 68,
   "id": "43bf67dc",
   "metadata": {},
   "outputs": [
    {
     "data": {
      "text/plain": [
       "<AxesSubplot:xlabel='BloodPressure', ylabel='Count'>"
      ]
     },
     "execution_count": 68,
     "metadata": {},
     "output_type": "execute_result"
    },
    {
     "data": {
      "image/png": "[encoded data removed]",
      "text/plain": [
       "<Figure size 432x288 with 1 Axes>"
      ]
     },
     "metadata": {
      "needs_background": "light"
     },
     "output_type": "display_data"
    }
   ],
   "source": [
    "sns.histplot(x='BloodPressure',data = data_set, kde=True)"
   ]
  },
  {
   "cell_type": "markdown",
   "id": "ddb6637e",
   "metadata": {},
   "source": [
    "Hence BloodPressure observations appears to be right skewed"
   ]
  },
  {
   "cell_type": "code",
   "execution_count": 70,
   "id": "a8c1d04a",
   "metadata": {},
   "outputs": [
    {
     "data": {
      "text/plain": [
       "<AxesSubplot:xlabel='SkinThickness', ylabel='Count'>"
      ]
     },
     "execution_count": 70,
     "metadata": {},
     "output_type": "execute_result"
    },
    {
     "data": {
      "image/png": "[encoded data removed]",
      "text/plain": [
       "<Figure size 432x288 with 1 Axes>"
      ]
     },
     "metadata": {
      "needs_background": "light"
     },
     "output_type": "display_data"
    }
   ],
   "source": [
    "sns.histplot(x='SkinThickness',data = data_set, kde=True,color = 'm')"
   ]
  },
  {
   "cell_type": "markdown",
   "id": "21a0fcb7",
   "metadata": {},
   "source": [
    "Hence SkinThickness observations appears to be symmetric"
   ]
  },
  {
   "cell_type": "code",
   "execution_count": 72,
   "id": "89a9fe43",
   "metadata": {},
   "outputs": [
    {
     "data": {
      "text/plain": [
       "<AxesSubplot:xlabel='Insulin', ylabel='Count'>"
      ]
     },
     "execution_count": 72,
     "metadata": {},
     "output_type": "execute_result"
    },
    {
     "data": {
      "image/png": "[encoded data removed]",
      "text/plain": [
       "<Figure size 432x288 with 1 Axes>"
      ]
     },
     "metadata": {
      "needs_background": "light"
     },
     "output_type": "display_data"
    }
   ],
   "source": [
    "sns.histplot(x='Insulin',data = data_set, kde=True,color = 'b')"
   ]
  },
  {
   "cell_type": "markdown",
   "id": "cbd6d784",
   "metadata": {},
   "source": [
    "Hence Insulin observations appears to be Right Skewed."
   ]
  },
  {
   "cell_type": "code",
   "execution_count": 73,
   "id": "e8a6191a",
   "metadata": {},
   "outputs": [
    {
     "data": {
      "text/plain": [
       "<AxesSubplot:xlabel='BMI', ylabel='Count'>"
      ]
     },
     "execution_count": 73,
     "metadata": {},
     "output_type": "execute_result"
    },
    {
     "data": {
      "image/png": "[encoded data removed]",
      "text/plain": [
       "<Figure size 432x288 with 1 Axes>"
      ]
     },
     "metadata": {
      "needs_background": "light"
     },
     "output_type": "display_data"
    }
   ],
   "source": [
    "sns.histplot(x='BMI',data = data_set, kde=True,color = 'y')"
   ]
  },
  {
   "cell_type": "markdown",
   "id": "a9ff8943",
   "metadata": {},
   "source": [
    "Hence BMI observations appears to be Left Skewed."
   ]
  },
  {
   "cell_type": "code",
   "execution_count": 75,
   "id": "7df47f56",
   "metadata": {},
   "outputs": [
    {
     "data": {
      "text/plain": [
       "<AxesSubplot:xlabel='DiabetesPedigreeFunction', ylabel='Count'>"
      ]
     },
     "execution_count": 75,
     "metadata": {},
     "output_type": "execute_result"
    },
    {
     "data": {
      "image/png": "[encoded data removed]",
      "text/plain": [
       "<Figure size 432x288 with 1 Axes>"
      ]
     },
     "metadata": {
      "needs_background": "light"
     },
     "output_type": "display_data"
    }
   ],
   "source": [
    "sns.histplot(x='DiabetesPedigreeFunction',data = data_set, kde=True)"
   ]
  },
  {
   "cell_type": "markdown",
   "id": "b6ff6ac0",
   "metadata": {},
   "source": [
    "Hence BMI observations appears to be Right Skewed."
   ]
  },
  {
   "cell_type": "code",
   "execution_count": 77,
   "id": "cb7bac21",
   "metadata": {},
   "outputs": [
    {
     "data": {
      "text/plain": [
       "<AxesSubplot:xlabel='Age', ylabel='Count'>"
      ]
     },
     "execution_count": 77,
     "metadata": {},
     "output_type": "execute_result"
    },
    {
     "data": {
      "image/png": "[encoded data removed]",
      "text/plain": [
       "<Figure size 432x288 with 1 Axes>"
      ]
     },
     "metadata": {
      "needs_background": "light"
     },
     "output_type": "display_data"
    }
   ],
   "source": [
    "sns.histplot(x='Age',data = data_set, kde=True, color = 'r')"
   ]
  },
  {
   "cell_type": "markdown",
   "id": "e0a82e1f",
   "metadata": {},
   "source": [
    "Hence Age observations appears to be Right Skewed."
   ]
  },
  {
   "cell_type": "code",
   "execution_count": 78,
   "id": "d633abc8",
   "metadata": {},
   "outputs": [
    {
     "data": {
      "text/plain": [
       "<AxesSubplot:xlabel='Outcome', ylabel='Count'>"
      ]
     },
     "execution_count": 78,
     "metadata": {},
     "output_type": "execute_result"
    },
    {
     "data": {
      "image/png": "[encoded data removed]",
      "text/plain": [
       "<Figure size 432x288 with 1 Axes>"
      ]
     },
     "metadata": {
      "needs_background": "light"
     },
     "output_type": "display_data"
    }
   ],
   "source": [
    "sns.histplot(x='Outcome',data = data_set, kde=True, color = 'g')"
   ]
  },
  {
   "cell_type": "markdown",
   "id": "b9203024",
   "metadata": {},
   "source": [
    "Here the skweness for outcome variable cannot be determined"
   ]
  },
  {
   "cell_type": "markdown",
   "id": "ee0a8ab9",
   "metadata": {},
   "source": [
    "## Calculation for the skewness value "
   ]
  },
  {
   "cell_type": "code",
   "execution_count": 79,
   "id": "b5c5281a",
   "metadata": {},
   "outputs": [
    {
     "data": {
      "text/plain": [
       "Pregnancies                 0.901674\n",
       "Glucose                     0.173754\n",
       "BloodPressure              -1.843608\n",
       "SkinThickness               0.109372\n",
       "Insulin                     2.272251\n",
       "BMI                        -0.428982\n",
       "DiabetesPedigreeFunction    1.919911\n",
       "Age                         1.129597\n",
       "Outcome                     0.635017\n",
       "dtype: float64"
      ]
     },
     "execution_count": 79,
     "metadata": {},
     "output_type": "execute_result"
    }
   ],
   "source": [
    "data_set.skew()"
   ]
  },
  {
   "cell_type": "markdown",
   "id": "9920212c",
   "metadata": {},
   "source": [
    "Symmetrical Variables - Pregnancies, Glucose, SkinThickness & Outcome\n",
    "Moderately Skewed - BMI\n",
    "Highly Skewed - BloodPressure, DiabetesPedigreeFunction, Age & Insulin"
   ]
  },
  {
   "cell_type": "markdown",
   "id": "a695967d",
   "metadata": {},
   "source": [
    "## Plot to examine the outliers of these variables"
   ]
  },
  {
   "cell_type": "code",
   "execution_count": 89,
   "id": "b09432ae",
   "metadata": {},
   "outputs": [
    {
     "data": {
      "text/plain": [
       "<AxesSubplot:ylabel='Pregnancies'>"
      ]
     },
     "execution_count": 89,
     "metadata": {},
     "output_type": "execute_result"
    },
    {
     "data": {
      "image/png": "[encoded data removed]",
      "text/plain": [
       "<Figure size 432x288 with 1 Axes>"
      ]
     },
     "metadata": {
      "needs_background": "light"
     },
     "output_type": "display_data"
    }
   ],
   "source": [
    "sns.boxplot(y='Pregnancies', data = data_set)"
   ]
  },
  {
   "cell_type": "code",
   "execution_count": 82,
   "id": "73d5ce41",
   "metadata": {},
   "outputs": [
    {
     "data": {
      "text/plain": [
       "<AxesSubplot:ylabel='Glucose'>"
      ]
     },
     "execution_count": 82,
     "metadata": {},
     "output_type": "execute_result"
    },
    {
     "data": {
      "image/png": "[encoded data removed]",
      "text/plain": [
       "<Figure size 432x288 with 1 Axes>"
      ]
     },
     "metadata": {
      "needs_background": "light"
     },
     "output_type": "display_data"
    }
   ],
   "source": [
    "sns.boxplot(y='Glucose', data = data_set)"
   ]
  },
  {
   "cell_type": "code",
   "execution_count": 84,
   "id": "27cd1d7e",
   "metadata": {},
   "outputs": [
    {
     "data": {
      "text/plain": [
       "<AxesSubplot:ylabel='BloodPressure'>"
      ]
     },
     "execution_count": 84,
     "metadata": {},
     "output_type": "execute_result"
    },
    {
     "data": {
      "image/png": "[encoded data removed]",
      "text/plain": [
       "<Figure size 432x288 with 1 Axes>"
      ]
     },
     "metadata": {
      "needs_background": "light"
     },
     "output_type": "display_data"
    }
   ],
   "source": [
    "sns.boxplot(y='BloodPressure', data = data_set)"
   ]
  },
  {
   "cell_type": "code",
   "execution_count": 86,
   "id": "f67b8c33",
   "metadata": {},
   "outputs": [
    {
     "data": {
      "text/plain": [
       "<AxesSubplot:ylabel='SkinThickness'>"
      ]
     },
     "execution_count": 86,
     "metadata": {},
     "output_type": "execute_result"
    },
    {
     "data": {
      "image/png": "[encoded data removed]",
      "text/plain": [
       "<Figure size 432x288 with 1 Axes>"
      ]
     },
     "metadata": {
      "needs_background": "light"
     },
     "output_type": "display_data"
    }
   ],
   "source": [
    "sns.boxplot(y='SkinThickness', data = data_set)"
   ]
  },
  {
   "cell_type": "code",
   "execution_count": 90,
   "id": "5b9a11f5",
   "metadata": {},
   "outputs": [
    {
     "data": {
      "text/plain": [
       "<AxesSubplot:ylabel='Insulin'>"
      ]
     },
     "execution_count": 90,
     "metadata": {},
     "output_type": "execute_result"
    },
    {
     "data": {
      "image/png": "[encoded data removed]",
      "text/plain": [
       "<Figure size 432x288 with 1 Axes>"
      ]
     },
     "metadata": {
      "needs_background": "light"
     },
     "output_type": "display_data"
    }
   ],
   "source": [
    "sns.boxplot(y='Insulin', data = data_set)"
   ]
  },
  {
   "cell_type": "code",
   "execution_count": 91,
   "id": "faf895fa",
   "metadata": {},
   "outputs": [
    {
     "data": {
      "text/plain": [
       "<AxesSubplot:ylabel='BMI'>"
      ]
     },
     "execution_count": 91,
     "metadata": {},
     "output_type": "execute_result"
    },
    {
     "data": {
      "image/png": "[encoded data removed]",
      "text/plain": [
       "<Figure size 432x288 with 1 Axes>"
      ]
     },
     "metadata": {
      "needs_background": "light"
     },
     "output_type": "display_data"
    }
   ],
   "source": [
    "sns.boxplot(y='BMI', data = data_set)"
   ]
  },
  {
   "cell_type": "code",
   "execution_count": 93,
   "id": "7803e741",
   "metadata": {},
   "outputs": [
    {
     "data": {
      "text/plain": [
       "<AxesSubplot:ylabel='DiabetesPedigreeFunction'>"
      ]
     },
     "execution_count": 93,
     "metadata": {},
     "output_type": "execute_result"
    },
    {
     "data": {
      "image/png": "[encoded data removed]",
      "text/plain": [
       "<Figure size 432x288 with 1 Axes>"
      ]
     },
     "metadata": {
      "needs_background": "light"
     },
     "output_type": "display_data"
    }
   ],
   "source": [
    "sns.boxplot(y='DiabetesPedigreeFunction', data = data_set)"
   ]
  },
  {
   "cell_type": "code",
   "execution_count": 94,
   "id": "bffdc6af",
   "metadata": {},
   "outputs": [
    {
     "data": {
      "text/plain": [
       "<AxesSubplot:ylabel='Age'>"
      ]
     },
     "execution_count": 94,
     "metadata": {},
     "output_type": "execute_result"
    },
    {
     "data": {
      "image/png": "[encoded data removed]",
      "text/plain": [
       "<Figure size 432x288 with 1 Axes>"
      ]
     },
     "metadata": {
      "needs_background": "light"
     },
     "output_type": "display_data"
    }
   ],
   "source": [
    "sns.boxplot(y='Age', data = data_set)"
   ]
  },
  {
   "cell_type": "code",
   "execution_count": 95,
   "id": "815da7c1",
   "metadata": {},
   "outputs": [
    {
     "data": {
      "text/plain": [
       "<AxesSubplot:ylabel='Outcome'>"
      ]
     },
     "execution_count": 95,
     "metadata": {},
     "output_type": "execute_result"
    },
    {
     "data": {
      "image/png": "[encoded data removed]",
      "text/plain": [
       "<Figure size 432x288 with 1 Axes>"
      ]
     },
     "metadata": {
      "needs_background": "light"
     },
     "output_type": "display_data"
    }
   ],
   "source": [
    "sns.boxplot(y='Outcome', data = data_set)"
   ]
  },
  {
   "cell_type": "markdown",
   "id": "66e02e8f",
   "metadata": {},
   "source": [
    "All the variables except Outcome have outliers."
   ]
  },
  {
   "cell_type": "markdown",
   "id": "3b21c9d6",
   "metadata": {},
   "source": [
    "## Measures of central tendency and dispersion for skewed data"
   ]
  },
  {
   "cell_type": "markdown",
   "id": "cb1c3576",
   "metadata": {},
   "source": [
    "Highly Skewed - BloodPressure, DiabetesPedigreeFunction, Age & Insulin"
   ]
  },
  {
   "cell_type": "markdown",
   "id": "38040c78",
   "metadata": {},
   "source": [
    "### Measure Of central tendency and dispersion for BloodPressure"
   ]
  },
  {
   "cell_type": "code",
   "execution_count": 116,
   "id": "34130573",
   "metadata": {},
   "outputs": [
    {
     "name": "stdout",
     "output_type": "stream",
     "text": [
      "################# Measure Of central Tendency #######################\n",
      "mean is= 69.10546875\n",
      "median is= 72.0\n",
      "mode is= 0    70\n",
      "dtype: int64\n",
      "################# Measure Of Dispersion #######################\n",
      "var is= 374.6472712271838\n",
      "SD is= 19.355807170644777\n",
      "IQR is= 18.0\n"
     ]
    }
   ],
   "source": [
    "print('################# Measure Of central Tendency #######################')\n",
    "mean_bp = data_set['BloodPressure'].mean()\n",
    "print(\"mean is=\",mean_bp)\n",
    "median_bp = data_set['BloodPressure'].median()\n",
    "print(\"median is=\",median_bp)\n",
    "mode_bp = data_set['BloodPressure'].mode()\n",
    "print(\"mode is=\",mode_bp)\n",
    "print('################# Measure Of Dispersion #######################')\n",
    "var_bp = data_set['BloodPressure'].var()\n",
    "print(\"var is=\",var_bp)\n",
    "sd_bp = data_set['BloodPressure'].std()\n",
    "print(\"SD is=\",sd_bp)\n",
    "q3,q1=np.percentile(data_set['BloodPressure'],[75,25])\n",
    "Iqr_bp = q3-q1\n",
    "print(\"IQR is=\",Iqr_bp)"
   ]
  },
  {
   "cell_type": "markdown",
   "id": "d12edcb9",
   "metadata": {},
   "source": [
    "### Measure Of central tendency and dispersion for DiabetesPedigreeFunction"
   ]
  },
  {
   "cell_type": "code",
   "execution_count": 117,
   "id": "df09b75c",
   "metadata": {},
   "outputs": [
    {
     "name": "stdout",
     "output_type": "stream",
     "text": [
      "################# Measure Of central Tendency #######################\n",
      "mean is= 0.4718763020833327\n",
      "median is= 0.3725\n",
      "mode is= 0    0.254\n",
      "1    0.258\n",
      "dtype: float64\n",
      "################# Measure Of Dispersion #######################\n",
      "var is= 0.10977863787313938\n",
      "SD is= 0.33132859501277484\n",
      "IQR is= 0.38249999999999995\n"
     ]
    }
   ],
   "source": [
    "print('################# Measure Of central Tendency #######################')\n",
    "mean_dpf = data_set['DiabetesPedigreeFunction'].mean()\n",
    "print(\"mean is=\",mean_dpf)\n",
    "median_dpf = data_set['DiabetesPedigreeFunction'].median()\n",
    "print(\"median is=\",median_dpf)\n",
    "mode_dpf = data_set['DiabetesPedigreeFunction'].mode()\n",
    "print(\"mode is=\",mode_dpf)\n",
    "print('################# Measure Of Dispersion #######################')\n",
    "var_dpf = data_set['DiabetesPedigreeFunction'].var()\n",
    "print(\"var is=\",var_dpf)\n",
    "sd_dpf = data_set['DiabetesPedigreeFunction'].std()\n",
    "print(\"SD is=\",sd_dpf)\n",
    "q3,q1=np.percentile(data_set['DiabetesPedigreeFunction'],[75,25])\n",
    "Iqr_dpf = q3-q1\n",
    "print(\"IQR is=\",Iqr_dpf)"
   ]
  },
  {
   "cell_type": "markdown",
   "id": "521f2da3",
   "metadata": {},
   "source": [
    "### Measure Of central tendency and dispersion for Age"
   ]
  },
  {
   "cell_type": "code",
   "execution_count": 115,
   "id": "4f7e65b8",
   "metadata": {},
   "outputs": [
    {
     "name": "stdout",
     "output_type": "stream",
     "text": [
      "################# Measure Of central Tendency #######################\n",
      "mean is= 33.240885416666664\n",
      "median is= 29.0\n",
      "mode is= 0    22\n",
      "dtype: int64\n",
      "################# Measure Of Dispersion #######################\n",
      "var is= 138.30304589037365\n",
      "SD is= 11.76023154067868\n",
      "IQR is= 17.0\n"
     ]
    }
   ],
   "source": [
    "print('################# Measure Of central Tendency #######################')\n",
    "mean_age = data_set['Age'].mean()\n",
    "print(\"mean is=\",mean_age)\n",
    "median_age = data_set['Age'].median()\n",
    "print(\"median is=\",median_age)\n",
    "mode_age = data_set['Age'].mode()\n",
    "print(\"mode is=\",mode_age)\n",
    "\n",
    "print('################# Measure Of Dispersion #######################')\n",
    "var_age = data_set['Age'].var()\n",
    "print(\"var is=\",var_age)\n",
    "sd_age = data_set['Age'].std()\n",
    "print(\"SD is=\",sd_age)\n",
    "q3,q1=np.percentile(data_set['Age'],[75,25])\n",
    "Iqr_age = q3-q1\n",
    "print(\"IQR is=\",Iqr_age)"
   ]
  },
  {
   "cell_type": "markdown",
   "id": "294f73dd",
   "metadata": {},
   "source": [
    "### Measure Of central tendency and dispersion for Insulin"
   ]
  },
  {
   "cell_type": "code",
   "execution_count": 118,
   "id": "02cb70da",
   "metadata": {},
   "outputs": [
    {
     "name": "stdout",
     "output_type": "stream",
     "text": [
      "################# Measure Of central Tendency #######################\n",
      "mean is= 79.79947916666667\n",
      "median is= 30.5\n",
      "mode is= 0    0\n",
      "dtype: int64\n",
      "################# Measure Of Dispersion #######################\n",
      "var is= 13281.180077955281\n",
      "SD is= 115.24400235133837\n",
      "IQR is= 127.25\n"
     ]
    }
   ],
   "source": [
    "print('################# Measure Of central Tendency #######################')\n",
    "mean_in = data_set['Insulin'].mean()\n",
    "print(\"mean is=\",mean_in)\n",
    "median_in = data_set['Insulin'].median()\n",
    "print(\"median is=\",median_in)\n",
    "mode_in = data_set['Insulin'].mode()\n",
    "print(\"mode is=\",mode_in)\n",
    "print('################# Measure Of Dispersion #######################')\n",
    "var_in = data_set['Insulin'].var()\n",
    "print(\"var is=\",var_in)\n",
    "sd_in = data_set['Insulin'].std()\n",
    "print(\"SD is=\",sd_in)\n",
    "q3,q1=np.percentile(data_set['Insulin'],[75,25])\n",
    "Iqr_in = q3-q1\n",
    "print(\"IQR is=\",Iqr_in)"
   ]
  }
 ],
 "metadata": {
  "kernelspec": {
   "display_name": "Python 3 (ipykernel)",
   "language": "python",
   "name": "python3"
  },
  "language_info": {
   "codemirror_mode": {
    "name": "ipython",
    "version": 3
   },
   "file_extension": ".py",
   "mimetype": "text/x-python",
   "name": "python",
   "nbconvert_exporter": "python",
   "pygments_lexer": "ipython3",
   "version": "3.9.7"
  }
 },
 "nbformat": 4,
 "nbformat_minor": 5
}
