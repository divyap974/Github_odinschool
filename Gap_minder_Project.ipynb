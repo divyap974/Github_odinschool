{
 "cells": [
  {
   "cell_type": "markdown",
   "id": "afcb1743",
   "metadata": {},
   "source": [
    "## Importing Libraries"
   ]
  },
  {
   "cell_type": "code",
   "execution_count": 99,
   "id": "3825644c",
   "metadata": {},
   "outputs": [],
   "source": [
    "import pandas as pd\n",
    "import numpy as np\n",
    "import matplotlib.pyplot as plt\n",
    "import seaborn as sns"
   ]
  },
  {
   "cell_type": "markdown",
   "id": "4250e367",
   "metadata": {},
   "source": [
    "## Reading data frames"
   ]
  },
  {
   "cell_type": "code",
   "execution_count": 100,
   "id": "6724c42c",
   "metadata": {},
   "outputs": [],
   "source": [
    "df1 = pd.read_excel(r'Downloads/Gapminder_key_1.xlsx')\n",
    "df2 = pd.read_excel(r'Downloads/Gapminder_key_2.xlsx')"
   ]
  },
  {
   "cell_type": "markdown",
   "id": "cd81f1a6",
   "metadata": {},
   "source": [
    "## Displaying Data Frames"
   ]
  },
  {
   "cell_type": "code",
   "execution_count": 101,
   "id": "0a3716f7",
   "metadata": {},
   "outputs": [
    {
     "name": "stdout",
     "output_type": "stream",
     "text": [
      "          country  year  population continent\n",
      "0     Afghanistan  1952     8425333      Asia\n",
      "1     Afghanistan  1957     9240934      Asia\n",
      "2     Afghanistan  1962    10267083      Asia\n",
      "3     Afghanistan  1967    11537966      Asia\n",
      "4     Afghanistan  1972    13079460      Asia\n",
      "...           ...   ...         ...       ...\n",
      "1699     Zimbabwe  1987     9216418    Africa\n",
      "1700     Zimbabwe  1992    10704340    Africa\n",
      "1701     Zimbabwe  1997    11404948    Africa\n",
      "1702     Zimbabwe  2002    11926563    Africa\n",
      "1703     Zimbabwe  2007    12311143    Africa\n",
      "\n",
      "[1704 rows x 4 columns]\n"
     ]
    }
   ],
   "source": [
    "print(df1)"
   ]
  },
  {
   "cell_type": "code",
   "execution_count": 102,
   "id": "53eda6b7",
   "metadata": {},
   "outputs": [
    {
     "name": "stdout",
     "output_type": "stream",
     "text": [
      "          country  year  life_exp     gdp_cap\n",
      "0     Afghanistan  1952    28.801  779.445314\n",
      "1     Afghanistan  1957    30.332  820.853030\n",
      "2     Afghanistan  1962    31.997  853.100710\n",
      "3     Afghanistan  1967    34.020  836.197138\n",
      "4     Afghanistan  1972    36.088  739.981106\n",
      "...           ...   ...       ...         ...\n",
      "1699     Zimbabwe  1987    62.351  706.157306\n",
      "1700     Zimbabwe  1992    60.377  693.420786\n",
      "1701     Zimbabwe  1997    46.809  792.449960\n",
      "1702     Zimbabwe  2002    39.989  672.038623\n",
      "1703     Zimbabwe  2007    43.487  469.709298\n",
      "\n",
      "[1704 rows x 4 columns]\n"
     ]
    }
   ],
   "source": [
    "print(df2)"
   ]
  },
  {
   "cell_type": "markdown",
   "id": "7763d3f0",
   "metadata": {},
   "source": [
    "## Merge both data frames on variable country and year"
   ]
  },
  {
   "cell_type": "code",
   "execution_count": 103,
   "id": "b4408697",
   "metadata": {},
   "outputs": [
    {
     "name": "stdout",
     "output_type": "stream",
     "text": [
      "          country  year  population continent  life_exp     gdp_cap\n",
      "0     Afghanistan  1952     8425333      Asia    28.801  779.445314\n",
      "1     Afghanistan  1957     9240934      Asia    30.332  820.853030\n",
      "2     Afghanistan  1962    10267083      Asia    31.997  853.100710\n",
      "3     Afghanistan  1967    11537966      Asia    34.020  836.197138\n",
      "4     Afghanistan  1972    13079460      Asia    36.088  739.981106\n",
      "...           ...   ...         ...       ...       ...         ...\n",
      "1699     Zimbabwe  1987     9216418    Africa    62.351  706.157306\n",
      "1700     Zimbabwe  1992    10704340    Africa    60.377  693.420786\n",
      "1701     Zimbabwe  1997    11404948    Africa    46.809  792.449960\n",
      "1702     Zimbabwe  2002    11926563    Africa    39.989  672.038623\n",
      "1703     Zimbabwe  2007    12311143    Africa    43.487  469.709298\n",
      "\n",
      "[1704 rows x 6 columns]\n"
     ]
    }
   ],
   "source": [
    "data = pd.merge(df1,df2,how = 'outer', on=['country','year'])\n",
    "print(data)"
   ]
  },
  {
   "cell_type": "markdown",
   "id": "9b0bded0",
   "metadata": {},
   "source": [
    "## Calculate Standard deviation for variable life_exp"
   ]
  },
  {
   "cell_type": "code",
   "execution_count": 104,
   "id": "d890a293",
   "metadata": {},
   "outputs": [
    {
     "name": "stdout",
     "output_type": "stream",
     "text": [
      "12.917107415241187\n"
     ]
    }
   ],
   "source": [
    "sd = data['life_exp'].std()\n",
    "\n",
    "print(sd)\n"
   ]
  },
  {
   "cell_type": "markdown",
   "id": "802f2257",
   "metadata": {},
   "source": [
    "## Calculate the mean of variable gdp_cap"
   ]
  },
  {
   "cell_type": "code",
   "execution_count": 105,
   "id": "2a906d01",
   "metadata": {},
   "outputs": [
    {
     "data": {
      "text/plain": [
       "7215.327081212142"
      ]
     },
     "execution_count": 105,
     "metadata": {},
     "output_type": "execute_result"
    }
   ],
   "source": [
    "mean_gdp = data['gdp_cap'].mean()\n",
    "\n",
    "mean_gdp"
   ]
  },
  {
   "cell_type": "markdown",
   "id": "101586a0",
   "metadata": {},
   "source": [
    "## Get Data types of each variables"
   ]
  },
  {
   "cell_type": "code",
   "execution_count": 106,
   "id": "98e2f315",
   "metadata": {},
   "outputs": [
    {
     "name": "stdout",
     "output_type": "stream",
     "text": [
      "<class 'pandas.core.frame.DataFrame'>\n",
      "Int64Index: 1704 entries, 0 to 1703\n",
      "Data columns (total 6 columns):\n",
      " #   Column      Non-Null Count  Dtype  \n",
      "---  ------      --------------  -----  \n",
      " 0   country     1704 non-null   object \n",
      " 1   year        1704 non-null   int64  \n",
      " 2   population  1704 non-null   int64  \n",
      " 3   continent   1704 non-null   object \n",
      " 4   life_exp    1704 non-null   float64\n",
      " 5   gdp_cap     1704 non-null   float64\n",
      "dtypes: float64(2), int64(2), object(2)\n",
      "memory usage: 93.2+ KB\n"
     ]
    }
   ],
   "source": [
    "data.info()"
   ]
  },
  {
   "cell_type": "markdown",
   "id": "e738eb0e",
   "metadata": {},
   "source": [
    "## Change the type of Country and Continent"
   ]
  },
  {
   "cell_type": "code",
   "execution_count": 107,
   "id": "8573da42",
   "metadata": {},
   "outputs": [],
   "source": [
    "data = data.astype({'country':'category','continent':'category'})"
   ]
  },
  {
   "cell_type": "code",
   "execution_count": 108,
   "id": "29b1a307",
   "metadata": {},
   "outputs": [
    {
     "name": "stdout",
     "output_type": "stream",
     "text": [
      "<class 'pandas.core.frame.DataFrame'>\n",
      "Int64Index: 1704 entries, 0 to 1703\n",
      "Data columns (total 6 columns):\n",
      " #   Column      Non-Null Count  Dtype   \n",
      "---  ------      --------------  -----   \n",
      " 0   country     1704 non-null   category\n",
      " 1   year        1704 non-null   int64   \n",
      " 2   population  1704 non-null   int64   \n",
      " 3   continent   1704 non-null   category\n",
      " 4   life_exp    1704 non-null   float64 \n",
      " 5   gdp_cap     1704 non-null   float64 \n",
      "dtypes: category(2), float64(2), int64(2)\n",
      "memory usage: 76.9 KB\n"
     ]
    }
   ],
   "source": [
    "data.info()"
   ]
  },
  {
   "cell_type": "markdown",
   "id": "3cfe76ea",
   "metadata": {},
   "source": [
    "## Count of unique countries"
   ]
  },
  {
   "cell_type": "code",
   "execution_count": 130,
   "id": "adc63ef3",
   "metadata": {},
   "outputs": [
    {
     "data": {
      "text/plain": [
       "142"
      ]
     },
     "execution_count": 130,
     "metadata": {},
     "output_type": "execute_result"
    }
   ],
   "source": [
    "data_dup=data.drop_duplicates(subset='country')\n",
    "data_dup['country'].count()"
   ]
  },
  {
   "cell_type": "code",
   "execution_count": 133,
   "id": "7c9b40e4",
   "metadata": {},
   "outputs": [],
   "source": [
    "df=data"
   ]
  },
  {
   "cell_type": "markdown",
   "id": "1a0a59fe",
   "metadata": {},
   "source": [
    "## Display the minimum life_exp for the year 2007"
   ]
  },
  {
   "cell_type": "code",
   "execution_count": 134,
   "id": "fe714dae",
   "metadata": {},
   "outputs": [
    {
     "name": "stdout",
     "output_type": "stream",
     "text": [
      "        country  year  population continent  life_exp      gdp_cap\n",
      "1463  Swaziland  2007     1133066    Africa    39.613  4513.480643\n"
     ]
    }
   ],
   "source": [
    "data_2007 = df[df['year']==2007]\n",
    "min = data_2007[data_2007.life_exp == data_2007.life_exp.min()]\n",
    "print(min)"
   ]
  },
  {
   "cell_type": "markdown",
   "id": "bedc3bbc",
   "metadata": {},
   "source": [
    "## Display the maximum life_exp for the year 2007"
   ]
  },
  {
   "cell_type": "code",
   "execution_count": 135,
   "id": "9d81e601",
   "metadata": {},
   "outputs": [
    {
     "data": {
      "text/html": [
       "<div>\n",
       "<style scoped>\n",
       "    .dataframe tbody tr th:only-of-type {\n",
       "        vertical-align: middle;\n",
       "    }\n",
       "\n",
       "    .dataframe tbody tr th {\n",
       "        vertical-align: top;\n",
       "    }\n",
       "\n",
       "    .dataframe thead th {\n",
       "        text-align: right;\n",
       "    }\n",
       "</style>\n",
       "<table border=\"1\" class=\"dataframe\">\n",
       "  <thead>\n",
       "    <tr style=\"text-align: right;\">\n",
       "      <th></th>\n",
       "      <th>country</th>\n",
       "      <th>year</th>\n",
       "      <th>population</th>\n",
       "      <th>continent</th>\n",
       "      <th>life_exp</th>\n",
       "      <th>gdp_cap</th>\n",
       "    </tr>\n",
       "  </thead>\n",
       "  <tbody>\n",
       "    <tr>\n",
       "      <th>803</th>\n",
       "      <td>Japan</td>\n",
       "      <td>2007</td>\n",
       "      <td>127467972</td>\n",
       "      <td>Asia</td>\n",
       "      <td>82.603</td>\n",
       "      <td>31656.06806</td>\n",
       "    </tr>\n",
       "  </tbody>\n",
       "</table>\n",
       "</div>"
      ],
      "text/plain": [
       "    country  year  population continent  life_exp      gdp_cap\n",
       "803   Japan  2007   127467972      Asia    82.603  31656.06806"
      ]
     },
     "execution_count": 135,
     "metadata": {},
     "output_type": "execute_result"
    }
   ],
   "source": [
    "max = data_2007[data_2007.life_exp == data_2007.life_exp.max()]\n",
    "\n",
    "max"
   ]
  },
  {
   "cell_type": "markdown",
   "id": "273e24f8",
   "metadata": {},
   "source": [
    "## Plot a graph for Year Vs life_exp"
   ]
  },
  {
   "cell_type": "code",
   "execution_count": 145,
   "id": "fa28c1ae",
   "metadata": {},
   "outputs": [
    {
     "data": {
      "image/png": "[encoded data removed]",
      "text/plain": [
       "<Figure size 1440x504 with 1 Axes>"
      ]
     },
     "metadata": {
      "needs_background": "light"
     },
     "output_type": "display_data"
    }
   ],
   "source": [
    "x = data.year\n",
    "y = data.life_exp\n",
    "plt.figure(figsize=(20,7))\n",
    "plt.bar(x,y,color = 'r')\n",
    "plt.show()"
   ]
  },
  {
   "cell_type": "code",
   "execution_count": 218,
   "id": "52e2c3c1",
   "metadata": {},
   "outputs": [
    {
     "data": {
      "text/plain": [
       "<matplotlib.collections.PathCollection at 0x1ad355acaf0>"
      ]
     },
     "execution_count": 218,
     "metadata": {},
     "output_type": "execute_result"
    },
    {
     "data": {
      "image/png": "[encoded data removed]",
      "text/plain": [
       "<Figure size 1440x504 with 1 Axes>"
      ]
     },
     "metadata": {
      "needs_background": "light"
     },
     "output_type": "display_data"
    }
   ],
   "source": [
    "Ind = data[data['country'] == 'India']\n",
    "plt.figure(figsize=(20,7))\n",
    "x = Ind['country']\n",
    "y = Ind['life_exp']\n",
    "plt.scatter(x,y)"
   ]
  },
  {
   "cell_type": "markdown",
   "id": "2601c481",
   "metadata": {},
   "source": [
    "## Calculate the average gdp and avg gdp_cap"
   ]
  },
  {
   "cell_type": "code",
   "execution_count": 177,
   "id": "d3f40590",
   "metadata": {},
   "outputs": [
    {
     "name": "stdout",
     "output_type": "stream",
     "text": [
      "Average gdp =  409220666999.3279\n",
      "Average gdp_cap =  11680.071819878167\n"
     ]
    }
   ],
   "source": [
    "avg = np.average(data_2007['gdp_cap']*data_2007['population'])\n",
    "print(\"Average gdp = \",avg)\n",
    "avg_gdp = np.average(data_2007['gdp_cap'])\n",
    "print(\"Average gdp_cap = \",avg_gdp)"
   ]
  },
  {
   "cell_type": "markdown",
   "id": "f1c2c56f",
   "metadata": {},
   "source": [
    "## Describe the data"
   ]
  },
  {
   "cell_type": "code",
   "execution_count": 179,
   "id": "ebb19d49",
   "metadata": {},
   "outputs": [
    {
     "data": {
      "text/html": [
       "<div>\n",
       "<style scoped>\n",
       "    .dataframe tbody tr th:only-of-type {\n",
       "        vertical-align: middle;\n",
       "    }\n",
       "\n",
       "    .dataframe tbody tr th {\n",
       "        vertical-align: top;\n",
       "    }\n",
       "\n",
       "    .dataframe thead th {\n",
       "        text-align: right;\n",
       "    }\n",
       "</style>\n",
       "<table border=\"1\" class=\"dataframe\">\n",
       "  <thead>\n",
       "    <tr style=\"text-align: right;\">\n",
       "      <th></th>\n",
       "      <th>year</th>\n",
       "      <th>population</th>\n",
       "      <th>life_exp</th>\n",
       "      <th>gdp_cap</th>\n",
       "    </tr>\n",
       "  </thead>\n",
       "  <tbody>\n",
       "    <tr>\n",
       "      <th>count</th>\n",
       "      <td>1704.00000</td>\n",
       "      <td>1.704000e+03</td>\n",
       "      <td>1704.000000</td>\n",
       "      <td>1704.000000</td>\n",
       "    </tr>\n",
       "    <tr>\n",
       "      <th>mean</th>\n",
       "      <td>1979.50000</td>\n",
       "      <td>2.960121e+07</td>\n",
       "      <td>59.474439</td>\n",
       "      <td>7215.327081</td>\n",
       "    </tr>\n",
       "    <tr>\n",
       "      <th>std</th>\n",
       "      <td>17.26533</td>\n",
       "      <td>1.061579e+08</td>\n",
       "      <td>12.917107</td>\n",
       "      <td>9857.454543</td>\n",
       "    </tr>\n",
       "    <tr>\n",
       "      <th>min</th>\n",
       "      <td>1952.00000</td>\n",
       "      <td>6.001100e+04</td>\n",
       "      <td>23.599000</td>\n",
       "      <td>241.165876</td>\n",
       "    </tr>\n",
       "    <tr>\n",
       "      <th>25%</th>\n",
       "      <td>1965.75000</td>\n",
       "      <td>2.793664e+06</td>\n",
       "      <td>48.198000</td>\n",
       "      <td>1202.060309</td>\n",
       "    </tr>\n",
       "    <tr>\n",
       "      <th>50%</th>\n",
       "      <td>1979.50000</td>\n",
       "      <td>7.023596e+06</td>\n",
       "      <td>60.712500</td>\n",
       "      <td>3531.846988</td>\n",
       "    </tr>\n",
       "    <tr>\n",
       "      <th>75%</th>\n",
       "      <td>1993.25000</td>\n",
       "      <td>1.958522e+07</td>\n",
       "      <td>70.845500</td>\n",
       "      <td>9325.462346</td>\n",
       "    </tr>\n",
       "    <tr>\n",
       "      <th>max</th>\n",
       "      <td>2007.00000</td>\n",
       "      <td>1.318683e+09</td>\n",
       "      <td>82.603000</td>\n",
       "      <td>113523.132900</td>\n",
       "    </tr>\n",
       "  </tbody>\n",
       "</table>\n",
       "</div>"
      ],
      "text/plain": [
       "             year    population     life_exp        gdp_cap\n",
       "count  1704.00000  1.704000e+03  1704.000000    1704.000000\n",
       "mean   1979.50000  2.960121e+07    59.474439    7215.327081\n",
       "std      17.26533  1.061579e+08    12.917107    9857.454543\n",
       "min    1952.00000  6.001100e+04    23.599000     241.165876\n",
       "25%    1965.75000  2.793664e+06    48.198000    1202.060309\n",
       "50%    1979.50000  7.023596e+06    60.712500    3531.846988\n",
       "75%    1993.25000  1.958522e+07    70.845500    9325.462346\n",
       "max    2007.00000  1.318683e+09    82.603000  113523.132900"
      ]
     },
     "execution_count": 179,
     "metadata": {},
     "output_type": "execute_result"
    }
   ],
   "source": [
    "data.describe()"
   ]
  },
  {
   "cell_type": "markdown",
   "id": "d2b424c4",
   "metadata": {},
   "source": [
    "## Plot a graph for gdp_cap Vs life_exp"
   ]
  },
  {
   "cell_type": "code",
   "execution_count": 182,
   "id": "8ab2009b",
   "metadata": {},
   "outputs": [
    {
     "data": {
      "text/plain": [
       "<AxesSubplot:xlabel='gdp_cap', ylabel='life_exp'>"
      ]
     },
     "execution_count": 182,
     "metadata": {},
     "output_type": "execute_result"
    },
    {
     "data": {
      "image/png": "[encoded data removed]",
      "text/plain": [
       "<Figure size 720x360 with 1 Axes>"
      ]
     },
     "metadata": {
      "needs_background": "light"
     },
     "output_type": "display_data"
    }
   ],
   "source": [
    "fig = plt.figure(figsize = (10, 5))\n",
    "sns.scatterplot(x=\"gdp_cap\",y=\"life_exp\",hue=\"continent\",data=data_2007)"
   ]
  },
  {
   "cell_type": "markdown",
   "id": "37f1a0c6",
   "metadata": {},
   "source": [
    "## Plot a graph for year Vs gdp for India"
   ]
  },
  {
   "cell_type": "code",
   "execution_count": 191,
   "id": "2f02e6f6",
   "metadata": {
    "scrolled": true
   },
   "outputs": [
    {
     "data": {
      "text/plain": [
       "<AxesSubplot:xlabel='year', ylabel='gdp'>"
      ]
     },
     "execution_count": 191,
     "metadata": {},
     "output_type": "execute_result"
    },
    {
     "data": {
      "image/png": "[encoded data removed]",
      "text/plain": [
       "<Figure size 720x360 with 1 Axes>"
      ]
     },
     "metadata": {
      "needs_background": "light"
     },
     "output_type": "display_data"
    }
   ],
   "source": [
    "df['gdp'] = df['gdp_cap']*df['population']\n",
    "Ind = df[df['country']==\"India\"]\n",
    "fig = plt.figure(figsize = (10, 5))\n",
    "sns.scatterplot(x=\"year\",y=\"gdp\",data=Ind)"
   ]
  },
  {
   "cell_type": "markdown",
   "id": "64a46926",
   "metadata": {},
   "source": [
    "## Calculate the median for yearwise for each continents"
   ]
  },
  {
   "cell_type": "code",
   "execution_count": 192,
   "id": "7d6ef76d",
   "metadata": {},
   "outputs": [
    {
     "data": {
      "text/plain": [
       "continent  year\n",
       "Africa     1952    38.8330\n",
       "           1957    40.5925\n",
       "           1962    42.6305\n",
       "           1967    44.6985\n",
       "           1972    47.0315\n",
       "           1977    49.2725\n",
       "           1982    50.7560\n",
       "           1987    51.6395\n",
       "           1992    52.4290\n",
       "           1997    52.7590\n",
       "           2002    51.2355\n",
       "           2007    52.9265\n",
       "Americas   1952    54.7450\n",
       "           1957    56.0740\n",
       "           1962    58.2990\n",
       "           1967    60.5230\n",
       "           1972    63.4410\n",
       "           1977    66.3530\n",
       "           1982    67.4050\n",
       "           1987    69.4980\n",
       "           1992    69.8620\n",
       "           1997    72.1460\n",
       "           2002    72.0470\n",
       "           2007    72.8990\n",
       "Asia       1952    44.8690\n",
       "           1957    48.2840\n",
       "           1962    49.3250\n",
       "           1967    53.6550\n",
       "           1972    56.9500\n",
       "           1977    60.7650\n",
       "           1982    63.7390\n",
       "           1987    66.2950\n",
       "           1992    68.6900\n",
       "           1997    70.2650\n",
       "           2002    71.0280\n",
       "           2007    72.3960\n",
       "Europe     1952    65.9000\n",
       "           1957    67.6500\n",
       "           1962    69.5250\n",
       "           1967    70.6100\n",
       "           1972    70.8850\n",
       "           1977    72.3350\n",
       "           1982    73.4900\n",
       "           1987    74.8150\n",
       "           1992    75.4510\n",
       "           1997    76.1160\n",
       "           2002    77.5365\n",
       "           2007    78.6085\n",
       "Oceania    1952    69.2550\n",
       "           1957    70.2950\n",
       "           1962    71.0850\n",
       "           1967    71.3100\n",
       "           1972    71.9100\n",
       "           1977    72.8550\n",
       "           1982    74.2900\n",
       "           1987    75.3200\n",
       "           1992    76.9450\n",
       "           1997    78.1900\n",
       "           2002    79.7400\n",
       "           2007    80.7195\n",
       "Name: life_exp, dtype: float64"
      ]
     },
     "execution_count": 192,
     "metadata": {},
     "output_type": "execute_result"
    }
   ],
   "source": [
    "med = df.groupby(['continent','year']).life_exp.median()\n",
    "med"
   ]
  },
  {
   "cell_type": "markdown",
   "id": "0736e496",
   "metadata": {},
   "source": [
    "## Calculate the mean for yearwise for each country"
   ]
  },
  {
   "cell_type": "code",
   "execution_count": 195,
   "id": "cefd9f34",
   "metadata": {},
   "outputs": [
    {
     "data": {
      "text/plain": [
       "country      year\n",
       "Afghanistan  1952    28.801\n",
       "             1957    30.332\n",
       "             1962    31.997\n",
       "             1967    34.020\n",
       "             1972    36.088\n",
       "                      ...  \n",
       "Zimbabwe     1987    62.351\n",
       "             1992    60.377\n",
       "             1997    46.809\n",
       "             2002    39.989\n",
       "             2007    43.487\n",
       "Name: life_exp, Length: 1704, dtype: float64"
      ]
     },
     "execution_count": 195,
     "metadata": {},
     "output_type": "execute_result"
    }
   ],
   "source": [
    "df.groupby(['country','year']).life_exp.mean()"
   ]
  }
 ],
 "metadata": {
  "kernelspec": {
   "display_name": "Python 3 (ipykernel)",
   "language": "python",
   "name": "python3"
  },
  "language_info": {
   "codemirror_mode": {
    "name": "ipython",
    "version": 3
   },
   "file_extension": ".py",
   "mimetype": "text/x-python",
   "name": "python",
   "nbconvert_exporter": "python",
   "pygments_lexer": "ipython3",
   "version": "3.9.7"
  }
 },
 "nbformat": 4,
 "nbformat_minor": 5
}
